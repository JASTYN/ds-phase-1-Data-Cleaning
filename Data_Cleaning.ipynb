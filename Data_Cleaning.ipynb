{
 "cells": [
  {
   "cell_type": "markdown",
   "metadata": {},
   "source": [
    "![Data Cleaning](dataCleaning.png)"
   ]
  },
  {
   "cell_type": "markdown",
   "metadata": {},
   "source": [
    "## Objectives\n",
    "\n",
    "* Understand data cleaning and different data issues.\n",
    "* Define, identify and handle duplicates and unwanted observations.\n",
    "* Quanitify and Handle Missing values.\n",
    "* Ensure wanted observations are well structured.\n",
    "* Define, identify and filter out outliers.\n",
    "* Validate Data Accuracy.\n",
    "* Demonstrate use of ```Lambda``` functions. "
   ]
  },
  {
   "cell_type": "markdown",
   "metadata": {},
   "source": [
    "## What is Data Cleaning?\n",
    "\n",
    "* Data cleaning refers to the process of identifying and correcting or removing incorrect, incomplete, incorrectly formatted, corrupted, duplicate or irrelevant data within the provided data.\n",
    "\n",
    "Although tiresome, this is among the most important process of any data analytics or data science project as unwanted records my result in undesirable insights.\n",
    "\n",
    "💡 **Remember:** _Garbage in garbage out_\n",
    "\n",
    "There is no one outright and perfect way to stipulate the exact steps involved in the data cleaning phase because the processes will differ depending on the data at hand.\n",
    "\n"
   ]
  },
  {
   "cell_type": "markdown",
   "metadata": {},
   "source": [
    "## What are the different types of data issues?\n",
    "\n",
    "* **Missing Data** - No data value is stored for an attribute in an observation hence data ends up with missing fields.\n",
    "* **Duplicated Entries** - An Entry that shares data with another entry.\n",
    "* **Invalid Data** - This includes wrong data types and wrong data formats which in turn interferes with the analysis process.\n",
    "* **Conflicting Data** - Occurs when there are same records with different attributes example grams and kgs."
   ]
  },
  {
   "cell_type": "markdown",
   "metadata": {},
   "source": [
    "## Loading Python Packages"
   ]
  },
  {
   "cell_type": "code",
   "execution_count": 1,
   "metadata": {},
   "outputs": [],
   "source": [
    "# numpy for high level mathematical functions and working with Arrays\n",
    "import numpy as np\n",
    "# pandas data manipulation and analysis for tablular data\n",
    "import pandas as pd\n",
    "# seaborn and matplotlib for data visualization\n",
    "import seaborn as sns\n",
    "import matplotlib.pyplot as plt"
   ]
  },
  {
   "cell_type": "markdown",
   "metadata": {},
   "source": [
    "## Loading the data\n",
    "\n",
    "We will use the [students_data](https://drive.google.com/drive/folders/1NLTyHM5brBKr8PXO_glO9YYHJmbQ-6-o?usp=share_link).\n",
    "\n",
    "🤔 **Recall** - Apart from ```pd.read_csv```, what other methods can one use to load tabular data into a pandas dataframe?"
   ]
  },
  {
   "cell_type": "code",
   "execution_count": 36,
   "metadata": {},
   "outputs": [],
   "source": [
    "# loading the data\n",
    "students = pd.read_csv(\"students_data.csv\", index_col=0)\n",
    "# using the index_col=0 argument avoid having the index column as unnamed:0"
   ]
  },
  {
   "cell_type": "markdown",
   "metadata": {},
   "source": [
    "## Understanding the Data\n",
    "\n",
    "Exploring a dataset before applying any methods or processes to it is quite essential in understanding what it contains. \n",
    "\n",
    "This will allow you generate questions that can be used to derive insights from the data to make informed business decisions."
   ]
  },
  {
   "cell_type": "markdown",
   "metadata": {},
   "source": [
    "### Inspecting the data\n",
    "\n",
    "Let's display few rows of the data, the column names and the shape of the data."
   ]
  },
  {
   "cell_type": "code",
   "execution_count": 37,
   "metadata": {},
   "outputs": [
    {
     "data": {
      "text/html": [
       "<div>\n",
       "<style scoped>\n",
       "    .dataframe tbody tr th:only-of-type {\n",
       "        vertical-align: middle;\n",
       "    }\n",
       "\n",
       "    .dataframe tbody tr th {\n",
       "        vertical-align: top;\n",
       "    }\n",
       "\n",
       "    .dataframe thead th {\n",
       "        text-align: right;\n",
       "    }\n",
       "</style>\n",
       "<table border=\"1\" class=\"dataframe\">\n",
       "  <thead>\n",
       "    <tr style=\"text-align: right;\">\n",
       "      <th></th>\n",
       "      <th>names</th>\n",
       "      <th>admission number</th>\n",
       "      <th>house</th>\n",
       "      <th>balance</th>\n",
       "      <th>english</th>\n",
       "      <th>kiswahili</th>\n",
       "      <th>mathematics</th>\n",
       "      <th>science</th>\n",
       "      <th>sst/cre</th>\n",
       "      <th>Creative Arts</th>\n",
       "      <th>music</th>\n",
       "    </tr>\n",
       "  </thead>\n",
       "  <tbody>\n",
       "    <tr>\n",
       "      <th>0</th>\n",
       "      <td>JERIEL NDEDA, OBURA</td>\n",
       "      <td>13259.0</td>\n",
       "      <td>NaN</td>\n",
       "      <td>NaN</td>\n",
       "      <td>81.0</td>\n",
       "      <td>39.0</td>\n",
       "      <td>50.0</td>\n",
       "      <td>30.0</td>\n",
       "      <td>59.0</td>\n",
       "      <td>99%</td>\n",
       "      <td>80%</td>\n",
       "    </tr>\n",
       "    <tr>\n",
       "      <th>1</th>\n",
       "      <td>MUKUHA TIMOTHY, KAMAU</td>\n",
       "      <td>13243.0</td>\n",
       "      <td>NaN</td>\n",
       "      <td>NaN</td>\n",
       "      <td>85.0</td>\n",
       "      <td>74.0</td>\n",
       "      <td>68.0</td>\n",
       "      <td>49.0</td>\n",
       "      <td>78.0</td>\n",
       "      <td>38%</td>\n",
       "      <td>86%</td>\n",
       "    </tr>\n",
       "    <tr>\n",
       "      <th>2</th>\n",
       "      <td>JOB, NGARA</td>\n",
       "      <td>13307.0</td>\n",
       "      <td>NaN</td>\n",
       "      <td>NaN</td>\n",
       "      <td>54.0</td>\n",
       "      <td>49.0</td>\n",
       "      <td>53.0</td>\n",
       "      <td>59.0</td>\n",
       "      <td>72.0</td>\n",
       "      <td>86%</td>\n",
       "      <td>62%</td>\n",
       "    </tr>\n",
       "    <tr>\n",
       "      <th>3</th>\n",
       "      <td>CHEGE DAVID, KAMAU</td>\n",
       "      <td>13258.0</td>\n",
       "      <td>NaN</td>\n",
       "      <td>NaN</td>\n",
       "      <td>71.0</td>\n",
       "      <td>97.0</td>\n",
       "      <td>92.0</td>\n",
       "      <td>41.0</td>\n",
       "      <td>81.0</td>\n",
       "      <td>77%</td>\n",
       "      <td>80%</td>\n",
       "    </tr>\n",
       "    <tr>\n",
       "      <th>4</th>\n",
       "      <td>RAMADHAN MUSA, TEPO</td>\n",
       "      <td>13363.0</td>\n",
       "      <td>NaN</td>\n",
       "      <td>NaN</td>\n",
       "      <td>40.0</td>\n",
       "      <td>84.0</td>\n",
       "      <td>74.0</td>\n",
       "      <td>82.0</td>\n",
       "      <td>89.0</td>\n",
       "      <td>64%</td>\n",
       "      <td>46%</td>\n",
       "    </tr>\n",
       "  </tbody>\n",
       "</table>\n",
       "</div>"
      ],
      "text/plain": [
       "                   names  admission number house balance  english  kiswahili  \\\n",
       "0    JERIEL NDEDA, OBURA           13259.0   NaN     NaN     81.0       39.0   \n",
       "1  MUKUHA TIMOTHY, KAMAU           13243.0   NaN     NaN     85.0       74.0   \n",
       "2             JOB, NGARA           13307.0   NaN     NaN     54.0       49.0   \n",
       "3     CHEGE DAVID, KAMAU           13258.0   NaN     NaN     71.0       97.0   \n",
       "4    RAMADHAN MUSA, TEPO           13363.0   NaN     NaN     40.0       84.0   \n",
       "\n",
       "   mathematics  science  sst/cre Creative Arts music  \n",
       "0         50.0     30.0     59.0           99%   80%  \n",
       "1         68.0     49.0     78.0           38%   86%  \n",
       "2         53.0     59.0     72.0           86%   62%  \n",
       "3         92.0     41.0     81.0           77%   80%  \n",
       "4         74.0     82.0     89.0           64%   46%  "
      ]
     },
     "execution_count": 37,
     "metadata": {},
     "output_type": "execute_result"
    }
   ],
   "source": [
    "# preview first 5 rows\n",
    "students.head()"
   ]
  },
  {
   "cell_type": "code",
   "execution_count": 38,
   "metadata": {},
   "outputs": [
    {
     "data": {
      "text/html": [
       "<div>\n",
       "<style scoped>\n",
       "    .dataframe tbody tr th:only-of-type {\n",
       "        vertical-align: middle;\n",
       "    }\n",
       "\n",
       "    .dataframe tbody tr th {\n",
       "        vertical-align: top;\n",
       "    }\n",
       "\n",
       "    .dataframe thead th {\n",
       "        text-align: right;\n",
       "    }\n",
       "</style>\n",
       "<table border=\"1\" class=\"dataframe\">\n",
       "  <thead>\n",
       "    <tr style=\"text-align: right;\">\n",
       "      <th></th>\n",
       "      <th>names</th>\n",
       "      <th>admission number</th>\n",
       "      <th>house</th>\n",
       "      <th>balance</th>\n",
       "      <th>english</th>\n",
       "      <th>kiswahili</th>\n",
       "      <th>mathematics</th>\n",
       "      <th>science</th>\n",
       "      <th>sst/cre</th>\n",
       "      <th>Creative Arts</th>\n",
       "      <th>music</th>\n",
       "    </tr>\n",
       "  </thead>\n",
       "  <tbody>\n",
       "    <tr>\n",
       "      <th>142</th>\n",
       "      <td>TIMOTHY NDEDA, OBURA</td>\n",
       "      <td>13322634.0</td>\n",
       "      <td>Elgon</td>\n",
       "      <td>0</td>\n",
       "      <td>-78.0</td>\n",
       "      <td>40.0</td>\n",
       "      <td>99.0</td>\n",
       "      <td>70.0</td>\n",
       "      <td>49.0</td>\n",
       "      <td>99&amp;</td>\n",
       "      <td>92&amp;</td>\n",
       "    </tr>\n",
       "    <tr>\n",
       "      <th>143</th>\n",
       "      <td>MUKUHA JERIEL, NGARA</td>\n",
       "      <td>1932845.0</td>\n",
       "      <td>Cherangani</td>\n",
       "      <td>321</td>\n",
       "      <td>94.0</td>\n",
       "      <td>780.0</td>\n",
       "      <td>420.0</td>\n",
       "      <td>71.0</td>\n",
       "      <td>88.0</td>\n",
       "      <td>56%</td>\n",
       "      <td>76%</td>\n",
       "    </tr>\n",
       "    <tr>\n",
       "      <th>144</th>\n",
       "      <td>JOB, KAMAU</td>\n",
       "      <td>1430232.0</td>\n",
       "      <td>Nandi</td>\n",
       "      <td>43,200</td>\n",
       "      <td>98.0</td>\n",
       "      <td>80.0</td>\n",
       "      <td>86.0</td>\n",
       "      <td>64.0</td>\n",
       "      <td>99.0</td>\n",
       "      <td>49%</td>\n",
       "      <td>69%</td>\n",
       "    </tr>\n",
       "    <tr>\n",
       "      <th>145</th>\n",
       "      <td>CHEGE, KAMAU</td>\n",
       "      <td>159.0</td>\n",
       "      <td>Nandi</td>\n",
       "      <td>NaN</td>\n",
       "      <td>508.0</td>\n",
       "      <td>409.0</td>\n",
       "      <td>77.0</td>\n",
       "      <td>58.0</td>\n",
       "      <td>56.0</td>\n",
       "      <td>88%</td>\n",
       "      <td>84%</td>\n",
       "    </tr>\n",
       "    <tr>\n",
       "      <th>146</th>\n",
       "      <td>RAMADHAN, MUSA</td>\n",
       "      <td>87.0</td>\n",
       "      <td>Cherangani</td>\n",
       "      <td>NaN</td>\n",
       "      <td>81.0</td>\n",
       "      <td>70.0</td>\n",
       "      <td>64.0</td>\n",
       "      <td>680.0</td>\n",
       "      <td>88.0</td>\n",
       "      <td>76%</td>\n",
       "      <td>72%</td>\n",
       "    </tr>\n",
       "  </tbody>\n",
       "</table>\n",
       "</div>"
      ],
      "text/plain": [
       "                    names  admission number       house balance  english  \\\n",
       "142  TIMOTHY NDEDA, OBURA        13322634.0       Elgon       0    -78.0   \n",
       "143  MUKUHA JERIEL, NGARA         1932845.0  Cherangani     321     94.0   \n",
       "144            JOB, KAMAU         1430232.0       Nandi  43,200     98.0   \n",
       "145          CHEGE, KAMAU             159.0       Nandi     NaN    508.0   \n",
       "146        RAMADHAN, MUSA              87.0  Cherangani     NaN     81.0   \n",
       "\n",
       "     kiswahili  mathematics  science  sst/cre Creative Arts music  \n",
       "142       40.0         99.0     70.0     49.0           99&   92&  \n",
       "143      780.0        420.0     71.0     88.0           56%   76%  \n",
       "144       80.0         86.0     64.0     99.0           49%   69%  \n",
       "145      409.0         77.0     58.0     56.0           88%   84%  \n",
       "146       70.0         64.0    680.0     88.0           76%   72%  "
      ]
     },
     "execution_count": 38,
     "metadata": {},
     "output_type": "execute_result"
    }
   ],
   "source": [
    "# preview last 5 rows\n",
    "students.tail()"
   ]
  },
  {
   "cell_type": "code",
   "execution_count": 39,
   "metadata": {},
   "outputs": [
    {
     "data": {
      "text/plain": [
       "['names',\n",
       " 'admission number',\n",
       " 'house',\n",
       " 'balance',\n",
       " 'english',\n",
       " 'kiswahili',\n",
       " 'mathematics',\n",
       " 'science',\n",
       " 'sst/cre',\n",
       " 'Creative Arts',\n",
       " 'music']"
      ]
     },
     "execution_count": 39,
     "metadata": {},
     "output_type": "execute_result"
    }
   ],
   "source": [
    "# the column names\n",
    "def data_column(data):\n",
    "    \"\"\"Simple function that returns the columns in a DataFrame\"\"\"\n",
    "    cols = list(data.columns)\n",
    "\n",
    "    return cols\n",
    "\n",
    "\n",
    "data_column(students)"
   ]
  },
  {
   "cell_type": "code",
   "execution_count": 40,
   "metadata": {},
   "outputs": [
    {
     "name": "stdout",
     "output_type": "stream",
     "text": [
      "The DataFrame has:\n",
      "\t* 147 rows\n",
      "\t* 11 columns\n"
     ]
    }
   ],
   "source": [
    "# shape of the data \n",
    "def data_shape(data):\n",
    "    \"\"\"Simple function to provide the shape of the data\"\"\"\n",
    "    out = print(f\"The DataFrame has:\\n\\t* {data.shape[0]} rows\\n\\t* {data.shape[1]} columns\")\n",
    "\n",
    "    return out\n",
    "\n",
    "data_shape(students)"
   ]
  },
  {
   "cell_type": "markdown",
   "metadata": {},
   "source": [
    "The methods ```.info()``` and ```.describe()``` provide important overview of the data."
   ]
  },
  {
   "cell_type": "code",
   "execution_count": 41,
   "metadata": {},
   "outputs": [
    {
     "name": "stdout",
     "output_type": "stream",
     "text": [
      "<class 'pandas.core.frame.DataFrame'>\n",
      "Int64Index: 147 entries, 0 to 146\n",
      "Data columns (total 11 columns):\n",
      " #   Column            Non-Null Count  Dtype  \n",
      "---  ------            --------------  -----  \n",
      " 0   names             147 non-null    object \n",
      " 1   admission number  124 non-null    float64\n",
      " 2   house             26 non-null     object \n",
      " 3   balance           58 non-null     object \n",
      " 4   english           121 non-null    float64\n",
      " 5   kiswahili         119 non-null    float64\n",
      " 6   mathematics       130 non-null    float64\n",
      " 7   science           117 non-null    float64\n",
      " 8   sst/cre           132 non-null    float64\n",
      " 9   Creative Arts     143 non-null    object \n",
      " 10  music             147 non-null    object \n",
      "dtypes: float64(6), object(5)\n",
      "memory usage: 13.8+ KB\n"
     ]
    }
   ],
   "source": [
    "# info for overview of the data\n",
    "students.info()"
   ]
  },
  {
   "cell_type": "code",
   "execution_count": 42,
   "metadata": {},
   "outputs": [
    {
     "data": {
      "text/html": [
       "<div>\n",
       "<style scoped>\n",
       "    .dataframe tbody tr th:only-of-type {\n",
       "        vertical-align: middle;\n",
       "    }\n",
       "\n",
       "    .dataframe tbody tr th {\n",
       "        vertical-align: top;\n",
       "    }\n",
       "\n",
       "    .dataframe thead th {\n",
       "        text-align: right;\n",
       "    }\n",
       "</style>\n",
       "<table border=\"1\" class=\"dataframe\">\n",
       "  <thead>\n",
       "    <tr style=\"text-align: right;\">\n",
       "      <th></th>\n",
       "      <th>admission number</th>\n",
       "      <th>english</th>\n",
       "      <th>kiswahili</th>\n",
       "      <th>mathematics</th>\n",
       "      <th>science</th>\n",
       "      <th>sst/cre</th>\n",
       "    </tr>\n",
       "  </thead>\n",
       "  <tbody>\n",
       "    <tr>\n",
       "      <th>count</th>\n",
       "      <td>1.240000e+02</td>\n",
       "      <td>121.000000</td>\n",
       "      <td>119.000000</td>\n",
       "      <td>130.000000</td>\n",
       "      <td>117.000000</td>\n",
       "      <td>132.000000</td>\n",
       "    </tr>\n",
       "    <tr>\n",
       "      <th>mean</th>\n",
       "      <td>1.473303e+05</td>\n",
       "      <td>70.958678</td>\n",
       "      <td>74.764706</td>\n",
       "      <td>72.938462</td>\n",
       "      <td>68.179487</td>\n",
       "      <td>70.833333</td>\n",
       "    </tr>\n",
       "    <tr>\n",
       "      <th>std</th>\n",
       "      <td>1.211743e+06</td>\n",
       "      <td>45.884710</td>\n",
       "      <td>74.971035</td>\n",
       "      <td>35.293180</td>\n",
       "      <td>60.666928</td>\n",
       "      <td>18.617142</td>\n",
       "    </tr>\n",
       "    <tr>\n",
       "      <th>min</th>\n",
       "      <td>8.700000e+01</td>\n",
       "      <td>-78.000000</td>\n",
       "      <td>29.000000</td>\n",
       "      <td>32.000000</td>\n",
       "      <td>28.000000</td>\n",
       "      <td>29.000000</td>\n",
       "    </tr>\n",
       "    <tr>\n",
       "      <th>25%</th>\n",
       "      <td>1.326200e+04</td>\n",
       "      <td>54.000000</td>\n",
       "      <td>49.500000</td>\n",
       "      <td>55.500000</td>\n",
       "      <td>46.000000</td>\n",
       "      <td>54.750000</td>\n",
       "    </tr>\n",
       "    <tr>\n",
       "      <th>50%</th>\n",
       "      <td>1.330650e+04</td>\n",
       "      <td>71.000000</td>\n",
       "      <td>66.000000</td>\n",
       "      <td>71.000000</td>\n",
       "      <td>66.000000</td>\n",
       "      <td>73.000000</td>\n",
       "    </tr>\n",
       "    <tr>\n",
       "      <th>75%</th>\n",
       "      <td>1.335625e+04</td>\n",
       "      <td>83.000000</td>\n",
       "      <td>82.500000</td>\n",
       "      <td>86.000000</td>\n",
       "      <td>79.000000</td>\n",
       "      <td>87.000000</td>\n",
       "    </tr>\n",
       "    <tr>\n",
       "      <th>max</th>\n",
       "      <td>1.332263e+07</td>\n",
       "      <td>508.000000</td>\n",
       "      <td>780.000000</td>\n",
       "      <td>420.000000</td>\n",
       "      <td>680.000000</td>\n",
       "      <td>100.000000</td>\n",
       "    </tr>\n",
       "  </tbody>\n",
       "</table>\n",
       "</div>"
      ],
      "text/plain": [
       "       admission number     english   kiswahili  mathematics     science  \\\n",
       "count      1.240000e+02  121.000000  119.000000   130.000000  117.000000   \n",
       "mean       1.473303e+05   70.958678   74.764706    72.938462   68.179487   \n",
       "std        1.211743e+06   45.884710   74.971035    35.293180   60.666928   \n",
       "min        8.700000e+01  -78.000000   29.000000    32.000000   28.000000   \n",
       "25%        1.326200e+04   54.000000   49.500000    55.500000   46.000000   \n",
       "50%        1.330650e+04   71.000000   66.000000    71.000000   66.000000   \n",
       "75%        1.335625e+04   83.000000   82.500000    86.000000   79.000000   \n",
       "max        1.332263e+07  508.000000  780.000000   420.000000  680.000000   \n",
       "\n",
       "          sst/cre  \n",
       "count  132.000000  \n",
       "mean    70.833333  \n",
       "std     18.617142  \n",
       "min     29.000000  \n",
       "25%     54.750000  \n",
       "50%     73.000000  \n",
       "75%     87.000000  \n",
       "max    100.000000  "
      ]
     },
     "execution_count": 42,
     "metadata": {},
     "output_type": "execute_result"
    }
   ],
   "source": [
    "# describe for descriptive statistics\n",
    "students.describe()\n"
   ]
  },
  {
   "cell_type": "markdown",
   "metadata": {},
   "source": [
    "Now that we have sense of the data that is available to us, we can focus on the irrelevant, incomplete and incorrect data entries before we proceed with any analysis.\n",
    "\n",
    "📝 **Note** - Its important to note that data cleaning can re-occur in multiple phases during the analysis process. "
   ]
  },
  {
   "cell_type": "markdown",
   "metadata": {},
   "source": [
    "## Data Cleaning "
   ]
  },
  {
   "cell_type": "markdown",
   "metadata": {},
   "source": [
    "### Removal of Duplicate and Unwanted Observations\n",
    "\n",
    "* **Duplicated Entries** - Complete carbon copy of rows or column values. \n",
    "* **Unwanted observations** - Irrelevant data records that don’t actually fit the specific problem you are trying to analyze or solve"
   ]
  },
  {
   "cell_type": "code",
   "execution_count": 43,
   "metadata": {},
   "outputs": [
    {
     "name": "stdout",
     "output_type": "stream",
     "text": [
      "The Data has 8 duplicated rows.\n",
      "This constitutes 5.442% of the data set.\n"
     ]
    }
   ],
   "source": [
    "# Duplicated entries\n",
    "def identify_duplicates(data):\n",
    "    \"\"\"Simple function to identify any duplicates\"\"\"\n",
    "    # identify the duplicates (dataframename.duplicated() , can add .sum() to get total count)\n",
    "    # empty list to store Bool results from duplicated\n",
    "    duplicates = []\n",
    "    for i in data.duplicated():\n",
    "        duplicates.append(i)\n",
    "    # identify if there is any duplicates. (If there is any we expect a True value in the list duplicates)\n",
    "    duplicates_set = set(duplicates) \n",
    "    if (len(duplicates_set) == 1):\n",
    "        print(\"The Data has no duplicates\")\n",
    "    else:\n",
    "        no_true = 0\n",
    "        for val in duplicates:\n",
    "            if (val == True):\n",
    "                no_true += 1\n",
    "        # percentage of the data represented by duplicates \n",
    "        duplicates_percentage = np.round(((no_true / len(data)) * 100), 3)\n",
    "        print(f\"The Data has {no_true} duplicated rows.\\nThis constitutes {duplicates_percentage}% of the data set.\") \n",
    "\n",
    "\n",
    "\n",
    "identify_duplicates(students)"
   ]
  },
  {
   "cell_type": "code",
   "execution_count": 44,
   "metadata": {},
   "outputs": [
    {
     "name": "stdout",
     "output_type": "stream",
     "text": [
      "The Data has no duplicates\n"
     ]
    }
   ],
   "source": [
    "# handling the duplicates \n",
    "def remove_duplicated_rows(data):\n",
    "    \"\"\"Simple Function to remove duplicated rows\"\"\"\n",
    "    data.drop_duplicates(subset=None, keep=\"first\", inplace=True)\n",
    "    # confirm if the duplicated rows have been removed\n",
    "    confirm = identify_duplicates(students)\n",
    "\n",
    "    return confirm \n",
    "\n",
    "\n",
    "remove_duplicated_rows(students)"
   ]
  },
  {
   "cell_type": "markdown",
   "metadata": {},
   "source": [
    "💡 **Remeber** - Columns that contain unique details such as Customer ID, Mobile Number should not be duplicated."
   ]
  },
  {
   "cell_type": "code",
   "execution_count": 45,
   "metadata": {},
   "outputs": [
    {
     "name": "stdout",
     "output_type": "stream",
     "text": [
      "The column Admission Number has 47 duplicated rows.\n",
      "This constitutes 33.813% of the data set.\n"
     ]
    }
   ],
   "source": [
    "def unique_column_duplicates(data, column):\n",
    "    \"\"\"handling duplicates in unique column\"\"\"\n",
    "    # empty list to store the duplicate bools\n",
    "    duplicates = []\n",
    "    for i in data[column].duplicated():\n",
    "        duplicates.append(i)\n",
    "    \n",
    "    # identify if there are any duplicates\n",
    "    duplicates_set = set(duplicates)\n",
    "    if (len(duplicates_set) == 1):\n",
    "        print(f\"The column {column.title()} has no duplicates\")\n",
    "    else:\n",
    "        no_true = 0\n",
    "        for val in duplicates:\n",
    "            if (val == True):\n",
    "                no_true += 1\n",
    "        # percentage of the data represented by duplicates \n",
    "        duplicates_percentage = np.round(((no_true / len(data)) * 100), 3)\n",
    "        print(f\"The column {column.title()} has {no_true} duplicated rows.\\nThis constitutes {duplicates_percentage}% of the data set.\")\n",
    "\n",
    "\n",
    "unique_column_duplicates(students, \"admission number\")"
   ]
  },
  {
   "cell_type": "markdown",
   "metadata": {},
   "source": [
    "From above, we can clearly point out that 47 students have the same admission number, which practically is not possible as each student is required to have a unique admission number."
   ]
  },
  {
   "cell_type": "code",
   "execution_count": 46,
   "metadata": {},
   "outputs": [
    {
     "name": "stdout",
     "output_type": "stream",
     "text": [
      "The column Admission Number has no duplicates\n"
     ]
    }
   ],
   "source": [
    "# handling the unique column duplicates \n",
    "def remove_unique_column_duplicates(data, column):\n",
    "    \"\"\"Simple Function to remove duplicated rows\"\"\"\n",
    "    data.drop_duplicates(subset=column, keep=\"first\", inplace=True)\n",
    "    # confirm if the duplicated rows have been removed\n",
    "    confirm = unique_column_duplicates(students, \"admission number\")\n",
    "\n",
    "    return confirm \n",
    "\n",
    "\n",
    "remove_unique_column_duplicates(students, \"admission number\")"
   ]
  },
  {
   "cell_type": "markdown",
   "metadata": {},
   "source": [
    "### Missing value\n",
    "\n",
    "While identifying these missing records proves to be easy, how to handle them often requires careful consideration as random fills or removal can lead to unforeseen results.\n",
    "\n",
    "There are a couple of ways to deal with missing data but it is important to note that neither is the optimal way of doing so:\n",
    "\n",
    "* **Dropping** - Deleting the records with missing values.\n",
    "* **Replacing** - Updating Missing values with values, this values could be actual or approximate."
   ]
  },
  {
   "cell_type": "code",
   "execution_count": 47,
   "metadata": {},
   "outputs": [
    {
     "name": "stdout",
     "output_type": "stream",
     "text": [
      "The Data has missing values.\n"
     ]
    }
   ],
   "source": [
    "# identify missing \n",
    "def identify_missing_values(data):\n",
    "    \"\"\"Identify is the data has missing values\"\"\"\n",
    "    # identify if data has missing values(data.isnull().any())\n",
    "    # empty dict to store missing values\n",
    "    missing = []\n",
    "    for i in data.isnull().any():\n",
    "        # add the bool values to empty list \n",
    "        missing.append(i)\n",
    "    # covert list to set (if data has missing value, the list should have true and false)\n",
    "    missing_set = set(missing)\n",
    "    if (len(missing_set) == 1):\n",
    "        out = print(\"The Data has no missing values\")\n",
    "    else:\n",
    "        out = print(\"The Data has missing values.\")\n",
    "\n",
    "    return out\n",
    "\n",
    "\n",
    "identify_missing_values(students)"
   ]
  },
  {
   "cell_type": "code",
   "execution_count": 48,
   "metadata": {},
   "outputs": [
    {
     "data": {
      "text/html": [
       "<div>\n",
       "<style scoped>\n",
       "    .dataframe tbody tr th:only-of-type {\n",
       "        vertical-align: middle;\n",
       "    }\n",
       "\n",
       "    .dataframe tbody tr th {\n",
       "        vertical-align: top;\n",
       "    }\n",
       "\n",
       "    .dataframe thead th {\n",
       "        text-align: right;\n",
       "    }\n",
       "</style>\n",
       "<table border=\"1\" class=\"dataframe\">\n",
       "  <thead>\n",
       "    <tr style=\"text-align: right;\">\n",
       "      <th></th>\n",
       "      <th>Missing Values</th>\n",
       "      <th>Percentage(%)</th>\n",
       "    </tr>\n",
       "  </thead>\n",
       "  <tbody>\n",
       "    <tr>\n",
       "      <th>house</th>\n",
       "      <td>74</td>\n",
       "      <td>0.804348</td>\n",
       "    </tr>\n",
       "    <tr>\n",
       "      <th>balance</th>\n",
       "      <td>51</td>\n",
       "      <td>0.554348</td>\n",
       "    </tr>\n",
       "    <tr>\n",
       "      <th>science</th>\n",
       "      <td>8</td>\n",
       "      <td>0.086957</td>\n",
       "    </tr>\n",
       "    <tr>\n",
       "      <th>kiswahili</th>\n",
       "      <td>7</td>\n",
       "      <td>0.076087</td>\n",
       "    </tr>\n",
       "    <tr>\n",
       "      <th>english</th>\n",
       "      <td>4</td>\n",
       "      <td>0.043478</td>\n",
       "    </tr>\n",
       "    <tr>\n",
       "      <th>mathematics</th>\n",
       "      <td>4</td>\n",
       "      <td>0.043478</td>\n",
       "    </tr>\n",
       "    <tr>\n",
       "      <th>sst/cre</th>\n",
       "      <td>4</td>\n",
       "      <td>0.043478</td>\n",
       "    </tr>\n",
       "    <tr>\n",
       "      <th>Creative Arts</th>\n",
       "      <td>3</td>\n",
       "      <td>0.032609</td>\n",
       "    </tr>\n",
       "    <tr>\n",
       "      <th>admission number</th>\n",
       "      <td>1</td>\n",
       "      <td>0.010870</td>\n",
       "    </tr>\n",
       "  </tbody>\n",
       "</table>\n",
       "</div>"
      ],
      "text/plain": [
       "                  Missing Values  Percentage(%)\n",
       "house                         74       0.804348\n",
       "balance                       51       0.554348\n",
       "science                        8       0.086957\n",
       "kiswahili                      7       0.076087\n",
       "english                        4       0.043478\n",
       "mathematics                    4       0.043478\n",
       "sst/cre                        4       0.043478\n",
       "Creative Arts                  3       0.032609\n",
       "admission number               1       0.010870"
      ]
     },
     "execution_count": 48,
     "metadata": {},
     "output_type": "execute_result"
    }
   ],
   "source": [
    "def missing_values(data):\n",
    "    \"\"\"A simple function to identify data has missing values\"\"\"\n",
    "    # identify the total missing values per column\n",
    "    # sort in order \n",
    "    miss = data.isnull().sum().sort_values(ascending = False)\n",
    "\n",
    "    # calculate percentage of the missing values\n",
    "    percentage_miss = (data.isnull().sum() / len(data)).sort_values(ascending = False)\n",
    "\n",
    "    # store in a dataframe \n",
    "    missing = pd.DataFrame({\"Missing Values\": miss, \"Percentage(%)\": percentage_miss})\n",
    "\n",
    "    # remove values that are missing \n",
    "    missing.drop(missing[missing[\"Percentage(%)\"] == 0].index, inplace = True)\n",
    "\n",
    "    return missing\n",
    "\n",
    "\n",
    "missing_data = missing_values(students)\n",
    "missing_data"
   ]
  },
  {
   "cell_type": "code",
   "execution_count": 49,
   "metadata": {},
   "outputs": [
    {
     "data": {
      "image/png": "[encoded data removed]",
      "text/plain": [
       "<Figure size 720x576 with 1 Axes>"
      ]
     },
     "metadata": {
      "needs_background": "light"
     },
     "output_type": "display_data"
    }
   ],
   "source": [
    "def graph_missing(data):\n",
    "    \"\"\"Graphically represent the missing values\"\"\"\n",
    "    fig, axes = plt.subplots(figsize = (10, 8))\n",
    "\n",
    "    # plot a bargraph\n",
    "    sns.barplot(x = data.index , y = data[\"Missing Values\"])\n",
    "    # labeling the axes \n",
    "    plt.xlabel(\"Columns\", fontdict={\"color\": \"black\", \"size\": 15})\n",
    "    # rotating our xticks \n",
    "    plt.xticks(rotation = '60')\n",
    "    # labeling the y axis \n",
    "    plt.ylabel(\"Missing Values\", fontdict={\"color\": \"black\", \"size\": 15})\n",
    "    # title \n",
    "    plt.title(\"Missing Values per Column\", fontsize = 18)\n",
    "    # display\n",
    "    plt.show()\n",
    "\n",
    "    # save the plot \n",
    "    fig.savefig(\"missing.png\")\n",
    "\n",
    "\n",
    "graph_missing(missing_data)"
   ]
  },
  {
   "cell_type": "markdown",
   "metadata": {},
   "source": [
    "* The column **house** has ```80%``` of its values missing. Even if we are to take a guess, chances are we will most likely end up too much wrong information. Therefore, because of the amount of missing value we can safely drop the column house."
   ]
  },
  {
   "cell_type": "code",
   "execution_count": 50,
   "metadata": {},
   "outputs": [
    {
     "data": {
      "text/plain": [
       "Index(['names', 'admission number', 'balance', 'english', 'kiswahili',\n",
       "       'mathematics', 'science', 'sst/cre', 'Creative Arts', 'music'],\n",
       "      dtype='object')"
      ]
     },
     "execution_count": 50,
     "metadata": {},
     "output_type": "execute_result"
    }
   ],
   "source": [
    "# drop missing values\n",
    "def drop_missing_value(data, cols):\n",
    "    \"\"\"Simple function to drop columns\"\"\"\n",
    "    data.drop(cols, axis = 1, inplace = True)\n",
    "    \n",
    "    # confirm columns have been dropped\n",
    "    return data.columns\n",
    "\n",
    "\n",
    "drop_missing_value(students, [\"house\"])"
   ]
  },
  {
   "cell_type": "markdown",
   "metadata": {},
   "source": [
    "* The column **balance** has ```55%``` of its values missing. Is it therefore best to?\n",
    ">> (A) Guess the fee balances of the remaining students.\n",
    "\n",
    ">> (B) Replace with mean Fee balance. \n",
    "\n",
    ">> (C) Assume students with missing values have cleared their fees.\n",
    "\n",
    ">> (D) Drop the column because the missing values are just too much.\n",
    "\n",
    ">> (Wueh!) This life no balance \n"
   ]
  },
  {
   "cell_type": "code",
   "execution_count": 56,
   "metadata": {},
   "outputs": [],
   "source": [
    "def replace_data(data, to_replace, value, col, regex_value):\n",
    "    \"\"\"replace values in the given column\"\"\"\n",
    "    data[col].replace(to_replace, value, inplace=True, regex=regex_value)\n",
    "    \n",
    "replace_data(students, np.nan, 0, \"balance\", False)"
   ]
  },
  {
   "cell_type": "markdown",
   "metadata": {},
   "source": [
    "📝 **Note** If the argument regex is ```True``` then to_replace must be a string. \n",
    "\n",
    "You can read more about replace [here](https://pandas.pydata.org/docs/reference/api/pandas.DataFrame.replace.html)"
   ]
  },
  {
   "cell_type": "markdown",
   "metadata": {},
   "source": [
    "The columns **english**, **kiswahili**, **mathematics**, **science**, **sst/cre** are numeric columns with a very low perentage of missing values. We can replace them with the mean scores in those subjects."
   ]
  },
  {
   "cell_type": "code",
   "execution_count": 57,
   "metadata": {},
   "outputs": [
    {
     "data": {
      "text/html": [
       "<div>\n",
       "<style scoped>\n",
       "    .dataframe tbody tr th:only-of-type {\n",
       "        vertical-align: middle;\n",
       "    }\n",
       "\n",
       "    .dataframe tbody tr th {\n",
       "        vertical-align: top;\n",
       "    }\n",
       "\n",
       "    .dataframe thead th {\n",
       "        text-align: right;\n",
       "    }\n",
       "</style>\n",
       "<table border=\"1\" class=\"dataframe\">\n",
       "  <thead>\n",
       "    <tr style=\"text-align: right;\">\n",
       "      <th></th>\n",
       "      <th>Missing Values</th>\n",
       "      <th>Percentage(%)</th>\n",
       "    </tr>\n",
       "  </thead>\n",
       "  <tbody>\n",
       "    <tr>\n",
       "      <th>Creative Arts</th>\n",
       "      <td>3</td>\n",
       "      <td>0.032609</td>\n",
       "    </tr>\n",
       "    <tr>\n",
       "      <th>admission number</th>\n",
       "      <td>1</td>\n",
       "      <td>0.010870</td>\n",
       "    </tr>\n",
       "  </tbody>\n",
       "</table>\n",
       "</div>"
      ],
      "text/plain": [
       "                  Missing Values  Percentage(%)\n",
       "Creative Arts                  3       0.032609\n",
       "admission number               1       0.010870"
      ]
     },
     "execution_count": 57,
     "metadata": {},
     "output_type": "execute_result"
    }
   ],
   "source": [
    "columns =['english', 'kiswahili', 'mathematics', 'science', 'sst/cre']\n",
    "def fill_numeric_missing(data, cols):\n",
    "    \"\"\"Simple function to replace missing values\"\"\"\n",
    "    for col in cols:\n",
    "        data[col].fillna(data[col].mean(), inplace=True)\n",
    "\n",
    "    # confirm remaining missing_values\n",
    "    results = missing_values(students)\n",
    "\n",
    "    return results\n",
    "\n",
    "\n",
    "fill_numeric_missing(students, columns)   "
   ]
  },
  {
   "cell_type": "markdown",
   "metadata": {},
   "source": [
    "The column **admission number** has one missing value. We can take a guess on this column, but chances are we can key in an exact number as another in the column and create a duplicate.\n",
    "\n",
    "Since there is only one row missing we can safely drop the row."
   ]
  },
  {
   "cell_type": "code",
   "execution_count": 58,
   "metadata": {},
   "outputs": [
    {
     "data": {
      "text/html": [
       "<div>\n",
       "<style scoped>\n",
       "    .dataframe tbody tr th:only-of-type {\n",
       "        vertical-align: middle;\n",
       "    }\n",
       "\n",
       "    .dataframe tbody tr th {\n",
       "        vertical-align: top;\n",
       "    }\n",
       "\n",
       "    .dataframe thead th {\n",
       "        text-align: right;\n",
       "    }\n",
       "</style>\n",
       "<table border=\"1\" class=\"dataframe\">\n",
       "  <thead>\n",
       "    <tr style=\"text-align: right;\">\n",
       "      <th></th>\n",
       "      <th>Missing Values</th>\n",
       "      <th>Percentage(%)</th>\n",
       "    </tr>\n",
       "  </thead>\n",
       "  <tbody>\n",
       "    <tr>\n",
       "      <th>Creative Arts</th>\n",
       "      <td>3</td>\n",
       "      <td>0.032967</td>\n",
       "    </tr>\n",
       "  </tbody>\n",
       "</table>\n",
       "</div>"
      ],
      "text/plain": [
       "               Missing Values  Percentage(%)\n",
       "Creative Arts               3       0.032967"
      ]
     },
     "execution_count": 58,
     "metadata": {},
     "output_type": "execute_result"
    }
   ],
   "source": [
    "def drop_row_missing(data, cols):\n",
    "    \"\"\"Simple function to drop row values with missing data in a specific column\"\"\"\n",
    "    for col in cols:\n",
    "        # drop along the row using axis = 0\n",
    "        # specify the column using subset\n",
    "        data.dropna(axis = 0, subset=col, inplace=True)\n",
    "    \n",
    "    # confirm the missing values dropped\n",
    "    results = missing_values(students)\n",
    "\n",
    "    return results\n",
    "\n",
    "drop_row_missing(students, [\"admission number\"])"
   ]
  },
  {
   "cell_type": "markdown",
   "metadata": {},
   "source": [
    "What should we do about the column creative arts?\n",
    "\n",
    "Columns creative arts and music have data stored in percentages. This should be numeric, but poor oh the computer doesn't understand this, don't get me wrong, computers are smart but only if you tell them to be."
   ]
  },
  {
   "cell_type": "markdown",
   "metadata": {},
   "source": [
    "### Fix Structural Issues"
   ]
  },
  {
   "cell_type": "code",
   "execution_count": 59,
   "metadata": {},
   "outputs": [
    {
     "data": {
      "text/html": [
       "<div>\n",
       "<style scoped>\n",
       "    .dataframe tbody tr th:only-of-type {\n",
       "        vertical-align: middle;\n",
       "    }\n",
       "\n",
       "    .dataframe tbody tr th {\n",
       "        vertical-align: top;\n",
       "    }\n",
       "\n",
       "    .dataframe thead th {\n",
       "        text-align: right;\n",
       "    }\n",
       "</style>\n",
       "<table border=\"1\" class=\"dataframe\">\n",
       "  <thead>\n",
       "    <tr style=\"text-align: right;\">\n",
       "      <th></th>\n",
       "      <th>names</th>\n",
       "      <th>admission number</th>\n",
       "      <th>balance</th>\n",
       "      <th>english</th>\n",
       "      <th>kiswahili</th>\n",
       "      <th>mathematics</th>\n",
       "      <th>science</th>\n",
       "      <th>sst/cre</th>\n",
       "      <th>Creative Arts</th>\n",
       "      <th>music</th>\n",
       "    </tr>\n",
       "  </thead>\n",
       "  <tbody>\n",
       "    <tr>\n",
       "      <th>0</th>\n",
       "      <td>JERIEL NDEDA, OBURA</td>\n",
       "      <td>13259.0</td>\n",
       "      <td>0</td>\n",
       "      <td>81.0</td>\n",
       "      <td>39.0</td>\n",
       "      <td>50.0</td>\n",
       "      <td>30.0</td>\n",
       "      <td>59.0</td>\n",
       "      <td>99</td>\n",
       "      <td>80</td>\n",
       "    </tr>\n",
       "    <tr>\n",
       "      <th>1</th>\n",
       "      <td>MUKUHA TIMOTHY, KAMAU</td>\n",
       "      <td>13243.0</td>\n",
       "      <td>0</td>\n",
       "      <td>85.0</td>\n",
       "      <td>74.0</td>\n",
       "      <td>68.0</td>\n",
       "      <td>49.0</td>\n",
       "      <td>78.0</td>\n",
       "      <td>38</td>\n",
       "      <td>86</td>\n",
       "    </tr>\n",
       "    <tr>\n",
       "      <th>2</th>\n",
       "      <td>JOB, NGARA</td>\n",
       "      <td>13307.0</td>\n",
       "      <td>0</td>\n",
       "      <td>54.0</td>\n",
       "      <td>49.0</td>\n",
       "      <td>53.0</td>\n",
       "      <td>59.0</td>\n",
       "      <td>72.0</td>\n",
       "      <td>86</td>\n",
       "      <td>62</td>\n",
       "    </tr>\n",
       "    <tr>\n",
       "      <th>3</th>\n",
       "      <td>CHEGE DAVID, KAMAU</td>\n",
       "      <td>13258.0</td>\n",
       "      <td>0</td>\n",
       "      <td>71.0</td>\n",
       "      <td>97.0</td>\n",
       "      <td>92.0</td>\n",
       "      <td>41.0</td>\n",
       "      <td>81.0</td>\n",
       "      <td>77</td>\n",
       "      <td>80</td>\n",
       "    </tr>\n",
       "    <tr>\n",
       "      <th>4</th>\n",
       "      <td>RAMADHAN MUSA, TEPO</td>\n",
       "      <td>13363.0</td>\n",
       "      <td>0</td>\n",
       "      <td>40.0</td>\n",
       "      <td>84.0</td>\n",
       "      <td>74.0</td>\n",
       "      <td>82.0</td>\n",
       "      <td>89.0</td>\n",
       "      <td>64</td>\n",
       "      <td>46</td>\n",
       "    </tr>\n",
       "  </tbody>\n",
       "</table>\n",
       "</div>"
      ],
      "text/plain": [
       "                   names  admission number balance  english  kiswahili  \\\n",
       "0    JERIEL NDEDA, OBURA           13259.0       0     81.0       39.0   \n",
       "1  MUKUHA TIMOTHY, KAMAU           13243.0       0     85.0       74.0   \n",
       "2             JOB, NGARA           13307.0       0     54.0       49.0   \n",
       "3     CHEGE DAVID, KAMAU           13258.0       0     71.0       97.0   \n",
       "4    RAMADHAN MUSA, TEPO           13363.0       0     40.0       84.0   \n",
       "\n",
       "   mathematics  science  sst/cre Creative Arts music  \n",
       "0         50.0     30.0     59.0            99    80  \n",
       "1         68.0     49.0     78.0            38    86  \n",
       "2         53.0     59.0     72.0            86    62  \n",
       "3         92.0     41.0     81.0            77    80  \n",
       "4         74.0     82.0     89.0            64    46  "
      ]
     },
     "execution_count": 59,
     "metadata": {},
     "output_type": "execute_result"
    }
   ],
   "source": [
    "def remove_character(data, cols, characters):\n",
    "    \"\"\"simple function to remove characters\"\"\"\n",
    "    # loop through the columns\n",
    "    for col in cols:\n",
    "        data[col] = data[col].str.strip(characters)\n",
    "\n",
    "    return data.head()\n",
    "\n",
    "\n",
    "remove_character(students, ['Creative Arts', 'music'], '%')"
   ]
  },
  {
   "cell_type": "markdown",
   "metadata": {},
   "source": [
    "Even after removing the ```%``` sign, we still have to \"explain\" to the computer that this are actually numbers and not characters. \n",
    "\n",
    "🤔 **Thinking out Loud** - We can't convert missing value to numeric, can we?"
   ]
  },
  {
   "cell_type": "code",
   "execution_count": 60,
   "metadata": {},
   "outputs": [
    {
     "data": {
      "text/plain": [
       "names                object\n",
       "admission number    float64\n",
       "balance              object\n",
       "english             float64\n",
       "kiswahili           float64\n",
       "mathematics         float64\n",
       "science             float64\n",
       "sst/cre             float64\n",
       "Creative Arts        object\n",
       "music                object\n",
       "dtype: object"
      ]
     },
     "execution_count": 60,
     "metadata": {},
     "output_type": "execute_result"
    }
   ],
   "source": [
    "# data types\n",
    "students.dtypes"
   ]
  },
  {
   "cell_type": "code",
   "execution_count": 61,
   "metadata": {},
   "outputs": [
    {
     "name": "stdout",
     "output_type": "stream",
     "text": [
      "The Data has no missing values\n"
     ]
    }
   ],
   "source": [
    "# handle missing value in column Creative Arts\n",
    "def fill_missing(data, col):\n",
    "    \"\"\"Simple function to replace missing values\"\"\"\n",
    "    data[col].fillna(method='bfill', inplace=True)\n",
    "\n",
    "    # confirm remaining missing_values\n",
    "    results = identify_missing_values(students)\n",
    "\n",
    "    return results\n",
    "\n",
    "\n",
    "fill_missing(students, \"Creative Arts\")"
   ]
  },
  {
   "cell_type": "code",
   "execution_count": 62,
   "metadata": {},
   "outputs": [
    {
     "data": {
      "text/plain": [
       "['99',\n",
       " '38',\n",
       " '86',\n",
       " '77',\n",
       " '64',\n",
       " '69',\n",
       " '44',\n",
       " '64',\n",
       " '86',\n",
       " '80',\n",
       " '86',\n",
       " '62',\n",
       " '46',\n",
       " '45',\n",
       " '59',\n",
       " '53',\n",
       " '93',\n",
       " '79',\n",
       " '79',\n",
       " '82',\n",
       " '93',\n",
       " '43',\n",
       " '78',\n",
       " '63',\n",
       " '42',\n",
       " '96',\n",
       " '75',\n",
       " '46',\n",
       " '82',\n",
       " '70',\n",
       " '70',\n",
       " '53',\n",
       " '96',\n",
       " '67',\n",
       " '82',\n",
       " '50',\n",
       " '81',\n",
       " '84',\n",
       " '59',\n",
       " '41',\n",
       " '95',\n",
       " '61',\n",
       " '68',\n",
       " '88',\n",
       " '69',\n",
       " '62',\n",
       " '100',\n",
       " '99',\n",
       " '100',\n",
       " '90',\n",
       " '86',\n",
       " '92',\n",
       " '62',\n",
       " '96',\n",
       " '74',\n",
       " '91',\n",
       " '39',\n",
       " '81',\n",
       " '38',\n",
       " '71',\n",
       " '47',\n",
       " '86',\n",
       " '77',\n",
       " '99',\n",
       " '32',\n",
       " '68',\n",
       " '84',\n",
       " '78',\n",
       " '99',\n",
       " '86',\n",
       " '68',\n",
       " '68',\n",
       " '62',\n",
       " '59',\n",
       " '96',\n",
       " '96',\n",
       " '96',\n",
       " '63',\n",
       " '71',\n",
       " '97',\n",
       " '40',\n",
       " '48',\n",
       " '51',\n",
       " '91',\n",
       " '78',\n",
       " '80',\n",
       " '99&',\n",
       " '56',\n",
       " '49',\n",
       " '88',\n",
       " '76']"
      ]
     },
     "execution_count": 62,
     "metadata": {},
     "output_type": "execute_result"
    }
   ],
   "source": [
    "# list of all the values of the column creative arts \n",
    "creative_scores = students[\"Creative Arts\"].to_list()\n",
    "\n",
    "creative_scores"
   ]
  },
  {
   "cell_type": "markdown",
   "metadata": {},
   "source": [
    "There is a row value with ```99&``` and because of this we can't convert the column to numeric."
   ]
  },
  {
   "cell_type": "code",
   "execution_count": 63,
   "metadata": {},
   "outputs": [
    {
     "data": {
      "text/html": [
       "<div>\n",
       "<style scoped>\n",
       "    .dataframe tbody tr th:only-of-type {\n",
       "        vertical-align: middle;\n",
       "    }\n",
       "\n",
       "    .dataframe tbody tr th {\n",
       "        vertical-align: top;\n",
       "    }\n",
       "\n",
       "    .dataframe thead th {\n",
       "        text-align: right;\n",
       "    }\n",
       "</style>\n",
       "<table border=\"1\" class=\"dataframe\">\n",
       "  <thead>\n",
       "    <tr style=\"text-align: right;\">\n",
       "      <th></th>\n",
       "      <th>names</th>\n",
       "      <th>admission number</th>\n",
       "      <th>balance</th>\n",
       "      <th>english</th>\n",
       "      <th>kiswahili</th>\n",
       "      <th>mathematics</th>\n",
       "      <th>science</th>\n",
       "      <th>sst/cre</th>\n",
       "      <th>Creative Arts</th>\n",
       "      <th>music</th>\n",
       "    </tr>\n",
       "  </thead>\n",
       "  <tbody>\n",
       "    <tr>\n",
       "      <th>0</th>\n",
       "      <td>JERIEL NDEDA, OBURA</td>\n",
       "      <td>13259.0</td>\n",
       "      <td>0</td>\n",
       "      <td>81.0</td>\n",
       "      <td>39.0</td>\n",
       "      <td>50.0</td>\n",
       "      <td>30.0</td>\n",
       "      <td>59.0</td>\n",
       "      <td>99</td>\n",
       "      <td>80</td>\n",
       "    </tr>\n",
       "    <tr>\n",
       "      <th>1</th>\n",
       "      <td>MUKUHA TIMOTHY, KAMAU</td>\n",
       "      <td>13243.0</td>\n",
       "      <td>0</td>\n",
       "      <td>85.0</td>\n",
       "      <td>74.0</td>\n",
       "      <td>68.0</td>\n",
       "      <td>49.0</td>\n",
       "      <td>78.0</td>\n",
       "      <td>38</td>\n",
       "      <td>86</td>\n",
       "    </tr>\n",
       "    <tr>\n",
       "      <th>2</th>\n",
       "      <td>JOB, NGARA</td>\n",
       "      <td>13307.0</td>\n",
       "      <td>0</td>\n",
       "      <td>54.0</td>\n",
       "      <td>49.0</td>\n",
       "      <td>53.0</td>\n",
       "      <td>59.0</td>\n",
       "      <td>72.0</td>\n",
       "      <td>86</td>\n",
       "      <td>62</td>\n",
       "    </tr>\n",
       "    <tr>\n",
       "      <th>3</th>\n",
       "      <td>CHEGE DAVID, KAMAU</td>\n",
       "      <td>13258.0</td>\n",
       "      <td>0</td>\n",
       "      <td>71.0</td>\n",
       "      <td>97.0</td>\n",
       "      <td>92.0</td>\n",
       "      <td>41.0</td>\n",
       "      <td>81.0</td>\n",
       "      <td>77</td>\n",
       "      <td>80</td>\n",
       "    </tr>\n",
       "    <tr>\n",
       "      <th>4</th>\n",
       "      <td>RAMADHAN MUSA, TEPO</td>\n",
       "      <td>13363.0</td>\n",
       "      <td>0</td>\n",
       "      <td>40.0</td>\n",
       "      <td>84.0</td>\n",
       "      <td>74.0</td>\n",
       "      <td>82.0</td>\n",
       "      <td>89.0</td>\n",
       "      <td>64</td>\n",
       "      <td>46</td>\n",
       "    </tr>\n",
       "  </tbody>\n",
       "</table>\n",
       "</div>"
      ],
      "text/plain": [
       "                   names  admission number balance  english  kiswahili  \\\n",
       "0    JERIEL NDEDA, OBURA           13259.0       0     81.0       39.0   \n",
       "1  MUKUHA TIMOTHY, KAMAU           13243.0       0     85.0       74.0   \n",
       "2             JOB, NGARA           13307.0       0     54.0       49.0   \n",
       "3     CHEGE DAVID, KAMAU           13258.0       0     71.0       97.0   \n",
       "4    RAMADHAN MUSA, TEPO           13363.0       0     40.0       84.0   \n",
       "\n",
       "   mathematics  science  sst/cre Creative Arts music  \n",
       "0         50.0     30.0     59.0            99    80  \n",
       "1         68.0     49.0     78.0            38    86  \n",
       "2         53.0     59.0     72.0            86    62  \n",
       "3         92.0     41.0     81.0            77    80  \n",
       "4         74.0     82.0     89.0            64    46  "
      ]
     },
     "execution_count": 63,
     "metadata": {},
     "output_type": "execute_result"
    }
   ],
   "source": [
    "# remove the & sign \n",
    "remove_character(students, ['Creative Arts', 'music'], '&')"
   ]
  },
  {
   "cell_type": "code",
   "execution_count": 64,
   "metadata": {},
   "outputs": [
    {
     "data": {
      "text/plain": [
       "names                object\n",
       "admission number    float64\n",
       "balance              object\n",
       "english             float64\n",
       "kiswahili           float64\n",
       "mathematics         float64\n",
       "science             float64\n",
       "sst/cre             float64\n",
       "Creative Arts         int32\n",
       "music                 int32\n",
       "dtype: object"
      ]
     },
     "execution_count": 64,
     "metadata": {},
     "output_type": "execute_result"
    }
   ],
   "source": [
    "# change data types\n",
    "def change_data_type(data, cols, type):\n",
    "    \"\"\"Simple function to change columns data type\"\"\"\n",
    "    for col in cols:\n",
    "        data[col] = data[col].astype(type)\n",
    "\n",
    "    # confirm the data types\n",
    "    out = data.dtypes\n",
    "\n",
    "    return out\n",
    "\n",
    "\n",
    "change_data_type(students, [\"Creative Arts\", \"music\"], 'int32')\n"
   ]
  },
  {
   "cell_type": "markdown",
   "metadata": {},
   "source": [
    "When dealing with numbers, especially money, we are most likely to add the ```,``` to show thousands, millions etc. In the event we have such data, like in this case the column **balance**, the computer is going to categorize ```14,000``` as a string and not a number."
   ]
  },
  {
   "cell_type": "code",
   "execution_count": 67,
   "metadata": {},
   "outputs": [],
   "source": [
    "# remove the , character from balance\n",
    "replace_data(students, \",\", \"\", \"balance\", True)"
   ]
  },
  {
   "cell_type": "markdown",
   "metadata": {},
   "source": [
    "📝 **Note** - Setting regex as ```True``` since the value we are replacing is a string."
   ]
  },
  {
   "cell_type": "code",
   "execution_count": 68,
   "metadata": {},
   "outputs": [
    {
     "data": {
      "text/plain": [
       "names                object\n",
       "admission number    float64\n",
       "balance             float64\n",
       "english             float64\n",
       "kiswahili           float64\n",
       "mathematics         float64\n",
       "science             float64\n",
       "sst/cre             float64\n",
       "Creative Arts         int32\n",
       "music                 int32\n",
       "dtype: object"
      ]
     },
     "execution_count": 68,
     "metadata": {},
     "output_type": "execute_result"
    }
   ],
   "source": [
    "# change column balance to numeric\n",
    "change_data_type(students, [\"balance\"], 'float')"
   ]
  },
  {
   "cell_type": "markdown",
   "metadata": {},
   "source": [
    "### Outliers\n",
    "\n",
    "Outliers are extreme data points that vary immensely from the other points. They are the hardest to detect among other data inaccuracies within the data in the sense that they are often of the same type as the other observations. Therefore, it is important to understand that just because they exist, doesn’t mean they are incorrect and as such, there should be a valid reason to remove these data points.\n",
    "\n",
    "Because of the data that we have we are going to use \"unconventional\" techniques to handle this outliers.\n",
    "\n",
    "```Z-score``` and ```IQR``` are common techniques used for identifying and removing outliers.\n",
    "\n",
    "📝 _Just because they exist, doesn't mean they are wrong_.\n"
   ]
  },
  {
   "cell_type": "code",
   "execution_count": 70,
   "metadata": {},
   "outputs": [
    {
     "data": {
      "text/plain": [
       "[-78.0, 508.0, 780.0, 409.0, 420.0, 680.0]"
      ]
     },
     "execution_count": 70,
     "metadata": {},
     "output_type": "execute_result"
    }
   ],
   "source": [
    "def identify_extreme_score(data, columns):\n",
    "    \"\"\"Check if there are values greater than 100 and less than 0\"\"\"\n",
    "    # empty list to store extreme points \n",
    "    extreme_score = []\n",
    "    # loop through the columns\n",
    "    for col in columns:\n",
    "        # loop through column values\n",
    "        for val in data[col]:\n",
    "            # scores should be between 0 and 100 \n",
    "            if (val > 100) or (val < 0):\n",
    "                extreme_score.append(val)\n",
    "\n",
    "    return extreme_score\n",
    "\n",
    "scores_columns = ['english', 'kiswahili', 'mathematics', 'science', 'sst/cre', 'Creative Arts', 'music']\n",
    "identify_extreme_score(students, scores_columns)"
   ]
  },
  {
   "cell_type": "code",
   "execution_count": 71,
   "metadata": {},
   "outputs": [
    {
     "data": {
      "text/plain": [
       "<AxesSubplot:xlabel='mathematics'>"
      ]
     },
     "execution_count": 71,
     "metadata": {},
     "output_type": "execute_result"
    },
    {
     "data": {
      "image/png": "[encoded data removed]",
      "text/plain": [
       "<Figure size 432x288 with 1 Axes>"
      ]
     },
     "metadata": {
      "needs_background": "light"
     },
     "output_type": "display_data"
    }
   ],
   "source": [
    "# we can also use a box plot to identify outliers\n",
    "\n",
    "sns.boxplot(data=students, x=\"mathematics\")"
   ]
  },
  {
   "cell_type": "code",
   "execution_count": 72,
   "metadata": {},
   "outputs": [
    {
     "data": {
      "text/plain": [
       "[420.0]"
      ]
     },
     "execution_count": 72,
     "metadata": {},
     "output_type": "execute_result"
    }
   ],
   "source": [
    "# using IQR\n",
    "def IQR_outliers(data, column):\n",
    "    \"\"\"Simple function to identify and remove outliers using IQR\"\"\"\n",
    "    # get Q1 and Q2\n",
    "    Q1 = data[column].quantile(0.25)\n",
    "    Q3 = data[column].quantile(0.75)\n",
    "    # calculate IQR\n",
    "    IQR = Q3-Q1\n",
    "    # identify ouliers (returns True if an outlier)\n",
    "    out = ((data[column]<(Q1-1.5*IQR)) | (data[column]>(Q3+1.5*IQR)))\n",
    "\n",
    "    # identify the outlier using index\n",
    "    outliers_list = list(out[out==True].index)\n",
    "    # identify the actual outliers using index\n",
    "    outliers = []\n",
    "    for val in outliers_list:\n",
    "        outliers.append(data[column][val])\n",
    "\n",
    "    \n",
    "    return outliers, Q1, Q3, IQR\n",
    "\n",
    "\n",
    "maths_outliers = IQR_outliers(students, \"mathematics\")\n",
    "maths_outliers[0]"
   ]
  },
  {
   "cell_type": "code",
   "execution_count": 73,
   "metadata": {},
   "outputs": [],
   "source": [
    "# remove the outlier\n",
    "def IQR_remove_outliers(data, column):\n",
    "    \"\"\"Simple function to remove the ouliers\"\"\"\n",
    "    # get values from previous function \n",
    "    identify = IQR_outliers(data, column)\n",
    "    Q1 = identify[1]\n",
    "    Q3 = identify[2]\n",
    "    IQR = identify[3]\n",
    "    # remove the outliers\n",
    "    df = data[~((data[column]<(Q1-1.5*IQR)) | (data[column]>(Q3+1.5*IQR)))]\n",
    "\n",
    "    return df\n",
    "\n",
    "students_data = IQR_remove_outliers(students, \"mathematics\")"
   ]
  },
  {
   "cell_type": "code",
   "execution_count": 74,
   "metadata": {},
   "outputs": [
    {
     "data": {
      "text/plain": [
       "<AxesSubplot:xlabel='mathematics'>"
      ]
     },
     "execution_count": 74,
     "metadata": {},
     "output_type": "execute_result"
    },
    {
     "data": {
      "image/png": "[encoded data removed]",
      "text/plain": [
       "<Figure size 432x288 with 1 Axes>"
      ]
     },
     "metadata": {
      "needs_background": "light"
     },
     "output_type": "display_data"
    }
   ],
   "source": [
    "# confirm using a box plot\n",
    "\n",
    "sns.boxplot(data=students_data, x=\"mathematics\")"
   ]
  },
  {
   "cell_type": "code",
   "execution_count": 75,
   "metadata": {},
   "outputs": [
    {
     "data": {
      "text/plain": [
       "[{'mean': 72.66035353535354,\n",
       "  'iqr': 24.75,\n",
       "  'cilo': 69.9040598606669,\n",
       "  'cihi': 78.0959401393331,\n",
       "  'whishi': 100.0,\n",
       "  'whislo': 32.0,\n",
       "  'fliers': array([], dtype=float64),\n",
       "  'q1': 61.25,\n",
       "  'med': 74.0,\n",
       "  'q3': 86.0}]"
      ]
     },
     "execution_count": 75,
     "metadata": {},
     "output_type": "execute_result"
    }
   ],
   "source": [
    "# what is happening\n",
    "from matplotlib.cbook import boxplot_stats\n",
    "\n",
    "stat = boxplot_stats(students_data[\"mathematics\"])\n",
    "stat"
   ]
  },
  {
   "cell_type": "markdown",
   "metadata": {},
   "source": [
    "The value of the outlier is ```420.0``` which is above the maximum limit shown in the boxplot ```(whishi = 100.0)```. We do not have ant outlier below minimum limit ```(whislo = 32)```."
   ]
  },
  {
   "cell_type": "code",
   "execution_count": 76,
   "metadata": {},
   "outputs": [
    {
     "data": {
      "text/plain": [
       "<AxesSubplot:xlabel='science'>"
      ]
     },
     "execution_count": 76,
     "metadata": {},
     "output_type": "execute_result"
    },
    {
     "data": {
      "image/png": "[encoded data removed]",
      "text/plain": [
       "<Figure size 432x288 with 1 Axes>"
      ]
     },
     "metadata": {
      "needs_background": "light"
     },
     "output_type": "display_data"
    }
   ],
   "source": [
    "# check for outlier using boxplot\n",
    "sns.boxplot(data=students_data, x=\"science\")"
   ]
  },
  {
   "cell_type": "code",
   "execution_count": 77,
   "metadata": {},
   "outputs": [
    {
     "data": {
      "text/plain": [
       "[680.0]"
      ]
     },
     "execution_count": 77,
     "metadata": {},
     "output_type": "execute_result"
    }
   ],
   "source": [
    "# science outlier\n",
    "science_outliers = IQR_outliers(students_data, \"science\")\n",
    "science_outliers[0]"
   ]
  },
  {
   "cell_type": "code",
   "execution_count": 78,
   "metadata": {},
   "outputs": [],
   "source": [
    "students_data = IQR_remove_outliers(students_data, \"science\")"
   ]
  },
  {
   "cell_type": "code",
   "execution_count": 79,
   "metadata": {},
   "outputs": [
    {
     "data": {
      "text/plain": [
       "<AxesSubplot:xlabel='science'>"
      ]
     },
     "execution_count": 79,
     "metadata": {},
     "output_type": "execute_result"
    },
    {
     "data": {
      "image/png": "[encoded data removed]",
      "text/plain": [
       "<Figure size 432x288 with 1 Axes>"
      ]
     },
     "metadata": {
      "needs_background": "light"
     },
     "output_type": "display_data"
    }
   ],
   "source": [
    "# confirm outlier been removed using boxplot\n",
    "sns.boxplot(data=students_data, x=\"science\")"
   ]
  },
  {
   "cell_type": "markdown",
   "metadata": {},
   "source": [
    "Don't get tired, remember ouliers are not different from the other data points, they are just extreme, which in such a case, student scores, its not possible to have a score of more than 100% or less than 0%."
   ]
  },
  {
   "cell_type": "code",
   "execution_count": 80,
   "metadata": {},
   "outputs": [
    {
     "data": {
      "text/plain": [
       "<AxesSubplot:xlabel='english'>"
      ]
     },
     "execution_count": 80,
     "metadata": {},
     "output_type": "execute_result"
    },
    {
     "data": {
      "image/png": "[encoded data removed]",
      "text/plain": [
       "<Figure size 432x288 with 1 Axes>"
      ]
     },
     "metadata": {
      "needs_background": "light"
     },
     "output_type": "display_data"
    }
   ],
   "source": [
    "# check for outlier using boxplot\n",
    "sns.boxplot(data=students_data, x=\"english\")"
   ]
  },
  {
   "cell_type": "code",
   "execution_count": 81,
   "metadata": {},
   "outputs": [
    {
     "data": {
      "text/plain": [
       "[-78.0, 508.0]"
      ]
     },
     "execution_count": 81,
     "metadata": {},
     "output_type": "execute_result"
    }
   ],
   "source": [
    "# english outlier\n",
    "english_outliers = IQR_outliers(students_data, \"english\")\n",
    "english_outliers[0]"
   ]
  },
  {
   "cell_type": "code",
   "execution_count": 82,
   "metadata": {},
   "outputs": [],
   "source": [
    "students_data = IQR_remove_outliers(students_data, \"english\")"
   ]
  },
  {
   "cell_type": "code",
   "execution_count": 83,
   "metadata": {},
   "outputs": [
    {
     "data": {
      "text/plain": [
       "<AxesSubplot:xlabel='english'>"
      ]
     },
     "execution_count": 83,
     "metadata": {},
     "output_type": "execute_result"
    },
    {
     "data": {
      "image/png": "[encoded data removed]",
      "text/plain": [
       "<Figure size 432x288 with 1 Axes>"
      ]
     },
     "metadata": {
      "needs_background": "light"
     },
     "output_type": "display_data"
    }
   ],
   "source": [
    "# confirm outlier been removed using boxplot\n",
    "sns.boxplot(data=students_data, x=\"english\")"
   ]
  },
  {
   "cell_type": "code",
   "execution_count": 84,
   "metadata": {},
   "outputs": [
    {
     "data": {
      "text/plain": [
       "<AxesSubplot:xlabel='kiswahili'>"
      ]
     },
     "execution_count": 84,
     "metadata": {},
     "output_type": "execute_result"
    },
    {
     "data": {
      "image/png": "[encoded data removed]",
      "text/plain": [
       "<Figure size 432x288 with 1 Axes>"
      ]
     },
     "metadata": {
      "needs_background": "light"
     },
     "output_type": "display_data"
    }
   ],
   "source": [
    "# check for outlier using boxplot\n",
    "sns.boxplot(data=students_data, x=\"kiswahili\")"
   ]
  },
  {
   "cell_type": "markdown",
   "metadata": {},
   "source": [
    "There are no outliers in the **Kiwahili** column, _wangwana hawa_."
   ]
  },
  {
   "cell_type": "code",
   "execution_count": 85,
   "metadata": {},
   "outputs": [
    {
     "data": {
      "text/plain": [
       "<AxesSubplot:xlabel='sst/cre'>"
      ]
     },
     "execution_count": 85,
     "metadata": {},
     "output_type": "execute_result"
    },
    {
     "data": {
      "image/png": "[encoded data removed]",
      "text/plain": [
       "<Figure size 432x288 with 1 Axes>"
      ]
     },
     "metadata": {
      "needs_background": "light"
     },
     "output_type": "display_data"
    }
   ],
   "source": [
    "# check for outlier using boxplot\n",
    "sns.boxplot(data=students_data, x=\"sst/cre\")"
   ]
  },
  {
   "cell_type": "markdown",
   "metadata": {},
   "source": [
    "There are no outliers in the **sst/cre**, seems they used the correct coordinates 😜!"
   ]
  },
  {
   "cell_type": "code",
   "execution_count": 86,
   "metadata": {},
   "outputs": [
    {
     "data": {
      "text/plain": [
       "<AxesSubplot:xlabel='Creative Arts'>"
      ]
     },
     "execution_count": 86,
     "metadata": {},
     "output_type": "execute_result"
    },
    {
     "data": {
      "image/png": "[encoded data removed]",
      "text/plain": [
       "<Figure size 432x288 with 1 Axes>"
      ]
     },
     "metadata": {
      "needs_background": "light"
     },
     "output_type": "display_data"
    }
   ],
   "source": [
    "\n",
    "# check for outlier using boxplot\n",
    "sns.boxplot(data=students_data, x=\"Creative Arts\")"
   ]
  },
  {
   "cell_type": "code",
   "execution_count": 87,
   "metadata": {},
   "outputs": [
    {
     "data": {
      "text/plain": [
       "<AxesSubplot:xlabel='music'>"
      ]
     },
     "execution_count": 87,
     "metadata": {},
     "output_type": "execute_result"
    },
    {
     "data": {
      "image/png": "[encoded data removed]",
      "text/plain": [
       "<Figure size 432x288 with 1 Axes>"
      ]
     },
     "metadata": {
      "needs_background": "light"
     },
     "output_type": "display_data"
    }
   ],
   "source": [
    "# check for outlier using boxplot\n",
    "sns.boxplot(data=students_data, x=\"music\")"
   ]
  },
  {
   "cell_type": "code",
   "execution_count": 88,
   "metadata": {},
   "outputs": [
    {
     "data": {
      "text/plain": [
       "<AxesSubplot:xlabel='admission number'>"
      ]
     },
     "execution_count": 88,
     "metadata": {},
     "output_type": "execute_result"
    },
    {
     "data": {
      "image/png": "[encoded data removed]",
      "text/plain": [
       "<Figure size 432x288 with 1 Axes>"
      ]
     },
     "metadata": {
      "needs_background": "light"
     },
     "output_type": "display_data"
    }
   ],
   "source": [
    "# check for outlier using boxplot\n",
    "sns.boxplot(data=students_data, x=\"admission number\")"
   ]
  },
  {
   "cell_type": "code",
   "execution_count": 89,
   "metadata": {},
   "outputs": [
    {
     "data": {
      "text/plain": [
       "[1430232.0]"
      ]
     },
     "execution_count": 89,
     "metadata": {},
     "output_type": "execute_result"
    }
   ],
   "source": [
    "# admission number outlier\n",
    "admin_outliers = IQR_outliers(students_data, \"admission number\")\n",
    "admin_outliers[0]"
   ]
  },
  {
   "cell_type": "code",
   "execution_count": 90,
   "metadata": {},
   "outputs": [],
   "source": [
    "students_data = IQR_remove_outliers(students_data, \"admission number\")"
   ]
  },
  {
   "cell_type": "code",
   "execution_count": 91,
   "metadata": {},
   "outputs": [
    {
     "data": {
      "text/plain": [
       "<AxesSubplot:xlabel='admission number'>"
      ]
     },
     "execution_count": 91,
     "metadata": {},
     "output_type": "execute_result"
    },
    {
     "data": {
      "image/png": "[encoded data removed]",
      "text/plain": [
       "<Figure size 432x288 with 1 Axes>"
      ]
     },
     "metadata": {
      "needs_background": "light"
     },
     "output_type": "display_data"
    }
   ],
   "source": [
    "# confirm outlier been removed using boxplot\n",
    "sns.boxplot(data=students_data, x=\"admission number\")"
   ]
  },
  {
   "cell_type": "code",
   "execution_count": 92,
   "metadata": {},
   "outputs": [
    {
     "data": {
      "text/plain": [
       "<AxesSubplot:xlabel='balance'>"
      ]
     },
     "execution_count": 92,
     "metadata": {},
     "output_type": "execute_result"
    },
    {
     "data": {
      "image/png": "[encoded data removed]",
      "text/plain": [
       "<Figure size 432x288 with 1 Axes>"
      ]
     },
     "metadata": {
      "needs_background": "light"
     },
     "output_type": "display_data"
    }
   ],
   "source": [
    "# check for outlier using boxplot\n",
    "sns.boxplot(data=students_data, x=\"balance\")"
   ]
  },
  {
   "cell_type": "code",
   "execution_count": 93,
   "metadata": {},
   "outputs": [
    {
     "data": {
      "text/plain": [
       "[38000.0, 43554.0, 53963.0, 48656.0, 48028.0, 45685.0, 36713.0, 42760.0]"
      ]
     },
     "execution_count": 93,
     "metadata": {},
     "output_type": "execute_result"
    }
   ],
   "source": [
    "# balance outlier\n",
    "balance_outliers = IQR_outliers(students_data, \"balance\")\n",
    "balance_outliers[0]"
   ]
  },
  {
   "cell_type": "markdown",
   "metadata": {},
   "source": [
    "As much as the above balances are categorised as outliers, its practically possible to have such balances since they are not that extreme.\n",
    "\n",
    "Do you think we should remove them?"
   ]
  },
  {
   "cell_type": "markdown",
   "metadata": {},
   "source": [
    "What happens when the data is normally distributed?\n",
    "\n",
    "In this scenario, we can determine the quartile from mean and median.\n",
    "\n",
    "```Q1 = mean - 0.675 * stdev```\n",
    "```Q3 = mean + 0.675 * stdev```\n",
    "\n",
    "```Upper Limit = Q3 + 1.5 * IQR = mean + 2.7 * stdev```\n",
    "```Lower Limit = Q1 - 1.5 * IQR = mean - 2.7 * stdev```\n",
    "\n",
    "Alternatively, we can use the Z-score, preferably when the data is normally distributed."
   ]
  },
  {
   "cell_type": "markdown",
   "metadata": {},
   "source": [
    "### Final Data"
   ]
  },
  {
   "cell_type": "code",
   "execution_count": 95,
   "metadata": {},
   "outputs": [],
   "source": [
    "# reset the index\n",
    "students_data.reset_index(drop=True, inplace=True)"
   ]
  },
  {
   "cell_type": "code",
   "execution_count": 96,
   "metadata": {},
   "outputs": [
    {
     "data": {
      "text/html": [
       "<div>\n",
       "<style scoped>\n",
       "    .dataframe tbody tr th:only-of-type {\n",
       "        vertical-align: middle;\n",
       "    }\n",
       "\n",
       "    .dataframe tbody tr th {\n",
       "        vertical-align: top;\n",
       "    }\n",
       "\n",
       "    .dataframe thead th {\n",
       "        text-align: right;\n",
       "    }\n",
       "</style>\n",
       "<table border=\"1\" class=\"dataframe\">\n",
       "  <thead>\n",
       "    <tr style=\"text-align: right;\">\n",
       "      <th></th>\n",
       "      <th>names</th>\n",
       "      <th>admission number</th>\n",
       "      <th>balance</th>\n",
       "      <th>english</th>\n",
       "      <th>kiswahili</th>\n",
       "      <th>mathematics</th>\n",
       "      <th>science</th>\n",
       "      <th>sst/cre</th>\n",
       "      <th>Creative Arts</th>\n",
       "      <th>music</th>\n",
       "    </tr>\n",
       "  </thead>\n",
       "  <tbody>\n",
       "    <tr>\n",
       "      <th>0</th>\n",
       "      <td>JERIEL NDEDA, OBURA</td>\n",
       "      <td>13259.0</td>\n",
       "      <td>0.0</td>\n",
       "      <td>81.0</td>\n",
       "      <td>39.0</td>\n",
       "      <td>50.0</td>\n",
       "      <td>30.0</td>\n",
       "      <td>59.0</td>\n",
       "      <td>99</td>\n",
       "      <td>80</td>\n",
       "    </tr>\n",
       "    <tr>\n",
       "      <th>1</th>\n",
       "      <td>MUKUHA TIMOTHY, KAMAU</td>\n",
       "      <td>13243.0</td>\n",
       "      <td>0.0</td>\n",
       "      <td>85.0</td>\n",
       "      <td>74.0</td>\n",
       "      <td>68.0</td>\n",
       "      <td>49.0</td>\n",
       "      <td>78.0</td>\n",
       "      <td>38</td>\n",
       "      <td>86</td>\n",
       "    </tr>\n",
       "    <tr>\n",
       "      <th>2</th>\n",
       "      <td>JOB, NGARA</td>\n",
       "      <td>13307.0</td>\n",
       "      <td>0.0</td>\n",
       "      <td>54.0</td>\n",
       "      <td>49.0</td>\n",
       "      <td>53.0</td>\n",
       "      <td>59.0</td>\n",
       "      <td>72.0</td>\n",
       "      <td>86</td>\n",
       "      <td>62</td>\n",
       "    </tr>\n",
       "    <tr>\n",
       "      <th>3</th>\n",
       "      <td>CHEGE DAVID, KAMAU</td>\n",
       "      <td>13258.0</td>\n",
       "      <td>0.0</td>\n",
       "      <td>71.0</td>\n",
       "      <td>97.0</td>\n",
       "      <td>92.0</td>\n",
       "      <td>41.0</td>\n",
       "      <td>81.0</td>\n",
       "      <td>77</td>\n",
       "      <td>80</td>\n",
       "    </tr>\n",
       "    <tr>\n",
       "      <th>4</th>\n",
       "      <td>RAMADHAN MUSA, TEPO</td>\n",
       "      <td>13363.0</td>\n",
       "      <td>0.0</td>\n",
       "      <td>40.0</td>\n",
       "      <td>84.0</td>\n",
       "      <td>74.0</td>\n",
       "      <td>82.0</td>\n",
       "      <td>89.0</td>\n",
       "      <td>64</td>\n",
       "      <td>46</td>\n",
       "    </tr>\n",
       "  </tbody>\n",
       "</table>\n",
       "</div>"
      ],
      "text/plain": [
       "                   names  admission number  balance  english  kiswahili  \\\n",
       "0    JERIEL NDEDA, OBURA           13259.0      0.0     81.0       39.0   \n",
       "1  MUKUHA TIMOTHY, KAMAU           13243.0      0.0     85.0       74.0   \n",
       "2             JOB, NGARA           13307.0      0.0     54.0       49.0   \n",
       "3     CHEGE DAVID, KAMAU           13258.0      0.0     71.0       97.0   \n",
       "4    RAMADHAN MUSA, TEPO           13363.0      0.0     40.0       84.0   \n",
       "\n",
       "   mathematics  science  sst/cre  Creative Arts  music  \n",
       "0         50.0     30.0     59.0             99     80  \n",
       "1         68.0     49.0     78.0             38     86  \n",
       "2         53.0     59.0     72.0             86     62  \n",
       "3         92.0     41.0     81.0             77     80  \n",
       "4         74.0     82.0     89.0             64     46  "
      ]
     },
     "execution_count": 96,
     "metadata": {},
     "output_type": "execute_result"
    }
   ],
   "source": [
    "# preview first 5 columns\n",
    "students_data.head()"
   ]
  },
  {
   "cell_type": "code",
   "execution_count": 98,
   "metadata": {},
   "outputs": [
    {
     "data": {
      "text/html": [
       "<div>\n",
       "<style scoped>\n",
       "    .dataframe tbody tr th:only-of-type {\n",
       "        vertical-align: middle;\n",
       "    }\n",
       "\n",
       "    .dataframe tbody tr th {\n",
       "        vertical-align: top;\n",
       "    }\n",
       "\n",
       "    .dataframe thead th {\n",
       "        text-align: right;\n",
       "    }\n",
       "</style>\n",
       "<table border=\"1\" class=\"dataframe\">\n",
       "  <thead>\n",
       "    <tr style=\"text-align: right;\">\n",
       "      <th></th>\n",
       "      <th>names</th>\n",
       "      <th>admission number</th>\n",
       "      <th>balance</th>\n",
       "      <th>english</th>\n",
       "      <th>kiswahili</th>\n",
       "      <th>mathematics</th>\n",
       "      <th>science</th>\n",
       "      <th>sst/cre</th>\n",
       "      <th>Creative Arts</th>\n",
       "      <th>music</th>\n",
       "    </tr>\n",
       "  </thead>\n",
       "  <tbody>\n",
       "    <tr>\n",
       "      <th>81</th>\n",
       "      <td>Anita Kahenya, Joy</td>\n",
       "      <td>13132.0</td>\n",
       "      <td>0.0</td>\n",
       "      <td>73.465909</td>\n",
       "      <td>77.811765</td>\n",
       "      <td>86.000000</td>\n",
       "      <td>69.952381</td>\n",
       "      <td>96.000000</td>\n",
       "      <td>48</td>\n",
       "      <td>69</td>\n",
       "    </tr>\n",
       "    <tr>\n",
       "      <th>82</th>\n",
       "      <td>Bin Amin, Ng'eno</td>\n",
       "      <td>13159.0</td>\n",
       "      <td>0.0</td>\n",
       "      <td>58.000000</td>\n",
       "      <td>77.811765</td>\n",
       "      <td>76.477273</td>\n",
       "      <td>69.952381</td>\n",
       "      <td>74.079545</td>\n",
       "      <td>51</td>\n",
       "      <td>44</td>\n",
       "    </tr>\n",
       "    <tr>\n",
       "      <th>83</th>\n",
       "      <td>Catherine Ndung'u, Kate</td>\n",
       "      <td>13187.0</td>\n",
       "      <td>0.0</td>\n",
       "      <td>84.000000</td>\n",
       "      <td>77.811765</td>\n",
       "      <td>68.000000</td>\n",
       "      <td>69.952381</td>\n",
       "      <td>48.000000</td>\n",
       "      <td>91</td>\n",
       "      <td>64</td>\n",
       "    </tr>\n",
       "    <tr>\n",
       "      <th>84</th>\n",
       "      <td>Daisy Machoka, Daniel</td>\n",
       "      <td>13168.0</td>\n",
       "      <td>18161.0</td>\n",
       "      <td>73.465909</td>\n",
       "      <td>77.811765</td>\n",
       "      <td>76.477273</td>\n",
       "      <td>69.952381</td>\n",
       "      <td>74.079545</td>\n",
       "      <td>78</td>\n",
       "      <td>86</td>\n",
       "    </tr>\n",
       "    <tr>\n",
       "      <th>85</th>\n",
       "      <td>Daniel Karanja, Wambui</td>\n",
       "      <td>13133.0</td>\n",
       "      <td>33619.0</td>\n",
       "      <td>78.000000</td>\n",
       "      <td>77.811765</td>\n",
       "      <td>78.000000</td>\n",
       "      <td>69.952381</td>\n",
       "      <td>29.000000</td>\n",
       "      <td>80</td>\n",
       "      <td>84</td>\n",
       "    </tr>\n",
       "  </tbody>\n",
       "</table>\n",
       "</div>"
      ],
      "text/plain": [
       "                      names  admission number  balance    english  kiswahili  \\\n",
       "81       Anita Kahenya, Joy           13132.0      0.0  73.465909  77.811765   \n",
       "82         Bin Amin, Ng'eno           13159.0      0.0  58.000000  77.811765   \n",
       "83  Catherine Ndung'u, Kate           13187.0      0.0  84.000000  77.811765   \n",
       "84    Daisy Machoka, Daniel           13168.0  18161.0  73.465909  77.811765   \n",
       "85   Daniel Karanja, Wambui           13133.0  33619.0  78.000000  77.811765   \n",
       "\n",
       "    mathematics    science    sst/cre  Creative Arts  music  \n",
       "81    86.000000  69.952381  96.000000             48     69  \n",
       "82    76.477273  69.952381  74.079545             51     44  \n",
       "83    68.000000  69.952381  48.000000             91     64  \n",
       "84    76.477273  69.952381  74.079545             78     86  \n",
       "85    78.000000  69.952381  29.000000             80     84  "
      ]
     },
     "execution_count": 98,
     "metadata": {},
     "output_type": "execute_result"
    }
   ],
   "source": [
    "# preview last 5 columns\n",
    "students_data.tail()"
   ]
  },
  {
   "cell_type": "markdown",
   "metadata": {},
   "source": [
    "## Using Lambda functions\n",
    "\n",
    "What is a lambda function?\n",
    "\n",
    "Refers to an anonymous function (ie a function definition that is not bound to an identifier unless assigned one) intended as a shorthand function. \n",
    "\n",
    "They come in handy since one doesn't have to write multiple lines of code defining a function, and they are written inline."
   ]
  },
  {
   "cell_type": "markdown",
   "metadata": {},
   "source": [
    "### using ```.apply()```"
   ]
  },
  {
   "cell_type": "code",
   "execution_count": 103,
   "metadata": {},
   "outputs": [
    {
     "data": {
      "text/html": [
       "<div>\n",
       "<style scoped>\n",
       "    .dataframe tbody tr th:only-of-type {\n",
       "        vertical-align: middle;\n",
       "    }\n",
       "\n",
       "    .dataframe tbody tr th {\n",
       "        vertical-align: top;\n",
       "    }\n",
       "\n",
       "    .dataframe thead th {\n",
       "        text-align: right;\n",
       "    }\n",
       "</style>\n",
       "<table border=\"1\" class=\"dataframe\">\n",
       "  <thead>\n",
       "    <tr style=\"text-align: right;\">\n",
       "      <th></th>\n",
       "      <th>names</th>\n",
       "      <th>admission number</th>\n",
       "      <th>balance</th>\n",
       "      <th>english</th>\n",
       "      <th>kiswahili</th>\n",
       "      <th>mathematics</th>\n",
       "      <th>science</th>\n",
       "      <th>sst/cre</th>\n",
       "      <th>Creative Arts</th>\n",
       "      <th>music</th>\n",
       "    </tr>\n",
       "  </thead>\n",
       "  <tbody>\n",
       "    <tr>\n",
       "      <th>81</th>\n",
       "      <td>Anita Kahenya, Joy</td>\n",
       "      <td>13132.0</td>\n",
       "      <td>0.0</td>\n",
       "      <td>73.0</td>\n",
       "      <td>77.0</td>\n",
       "      <td>86.0</td>\n",
       "      <td>69.0</td>\n",
       "      <td>96.0</td>\n",
       "      <td>48</td>\n",
       "      <td>69</td>\n",
       "    </tr>\n",
       "    <tr>\n",
       "      <th>82</th>\n",
       "      <td>Bin Amin, Ng'eno</td>\n",
       "      <td>13159.0</td>\n",
       "      <td>0.0</td>\n",
       "      <td>58.0</td>\n",
       "      <td>77.0</td>\n",
       "      <td>76.0</td>\n",
       "      <td>69.0</td>\n",
       "      <td>74.0</td>\n",
       "      <td>51</td>\n",
       "      <td>44</td>\n",
       "    </tr>\n",
       "    <tr>\n",
       "      <th>83</th>\n",
       "      <td>Catherine Ndung'u, Kate</td>\n",
       "      <td>13187.0</td>\n",
       "      <td>0.0</td>\n",
       "      <td>84.0</td>\n",
       "      <td>77.0</td>\n",
       "      <td>68.0</td>\n",
       "      <td>69.0</td>\n",
       "      <td>48.0</td>\n",
       "      <td>91</td>\n",
       "      <td>64</td>\n",
       "    </tr>\n",
       "    <tr>\n",
       "      <th>84</th>\n",
       "      <td>Daisy Machoka, Daniel</td>\n",
       "      <td>13168.0</td>\n",
       "      <td>18161.0</td>\n",
       "      <td>73.0</td>\n",
       "      <td>77.0</td>\n",
       "      <td>76.0</td>\n",
       "      <td>69.0</td>\n",
       "      <td>74.0</td>\n",
       "      <td>78</td>\n",
       "      <td>86</td>\n",
       "    </tr>\n",
       "    <tr>\n",
       "      <th>85</th>\n",
       "      <td>Daniel Karanja, Wambui</td>\n",
       "      <td>13133.0</td>\n",
       "      <td>33619.0</td>\n",
       "      <td>78.0</td>\n",
       "      <td>77.0</td>\n",
       "      <td>78.0</td>\n",
       "      <td>69.0</td>\n",
       "      <td>29.0</td>\n",
       "      <td>80</td>\n",
       "      <td>84</td>\n",
       "    </tr>\n",
       "  </tbody>\n",
       "</table>\n",
       "</div>"
      ],
      "text/plain": [
       "                      names  admission number  balance  english  kiswahili  \\\n",
       "81       Anita Kahenya, Joy           13132.0      0.0     73.0       77.0   \n",
       "82         Bin Amin, Ng'eno           13159.0      0.0     58.0       77.0   \n",
       "83  Catherine Ndung'u, Kate           13187.0      0.0     84.0       77.0   \n",
       "84    Daisy Machoka, Daniel           13168.0  18161.0     73.0       77.0   \n",
       "85   Daniel Karanja, Wambui           13133.0  33619.0     78.0       77.0   \n",
       "\n",
       "    mathematics  science  sst/cre  Creative Arts  music  \n",
       "81         86.0     69.0     96.0             48     69  \n",
       "82         76.0     69.0     74.0             51     44  \n",
       "83         68.0     69.0     48.0             91     64  \n",
       "84         76.0     69.0     74.0             78     86  \n",
       "85         78.0     69.0     29.0             80     84  "
      ]
     },
     "execution_count": 103,
     "metadata": {},
     "output_type": "execute_result"
    }
   ],
   "source": [
    "# using lamda function to remove the decimals in the scores that resulted from replacing with mean\n",
    "deci_columns = [\"english\", \"kiswahili\", \"mathematics\",\"science\", \"sst/cre\"]\n",
    "\n",
    "for col in deci_columns:\n",
    "    students_data[col] = students_data[col].apply(lambda x: np.trunc(x))\n",
    "\n",
    "# preview the data\n",
    "students_data.tail()"
   ]
  },
  {
   "cell_type": "markdown",
   "metadata": {},
   "source": [
    "### using ```.assign()```"
   ]
  },
  {
   "cell_type": "code",
   "execution_count": 108,
   "metadata": {},
   "outputs": [],
   "source": [
    "# lets find the students total\n",
    "students_data = students_data.assign(Total = lambda x: x[\"english\"] + x[\"kiswahili\"] + x[\"mathematics\"] + x[\"science\"] + x[\"sst/cre\"] + x[\"Creative Arts\"] + x[\"music\"])"
   ]
  },
  {
   "cell_type": "code",
   "execution_count": 110,
   "metadata": {},
   "outputs": [
    {
     "data": {
      "text/html": [
       "<div>\n",
       "<style scoped>\n",
       "    .dataframe tbody tr th:only-of-type {\n",
       "        vertical-align: middle;\n",
       "    }\n",
       "\n",
       "    .dataframe tbody tr th {\n",
       "        vertical-align: top;\n",
       "    }\n",
       "\n",
       "    .dataframe thead th {\n",
       "        text-align: right;\n",
       "    }\n",
       "</style>\n",
       "<table border=\"1\" class=\"dataframe\">\n",
       "  <thead>\n",
       "    <tr style=\"text-align: right;\">\n",
       "      <th></th>\n",
       "      <th>names</th>\n",
       "      <th>admission number</th>\n",
       "      <th>balance</th>\n",
       "      <th>english</th>\n",
       "      <th>kiswahili</th>\n",
       "      <th>mathematics</th>\n",
       "      <th>science</th>\n",
       "      <th>sst/cre</th>\n",
       "      <th>Creative Arts</th>\n",
       "      <th>music</th>\n",
       "      <th>Total</th>\n",
       "    </tr>\n",
       "  </thead>\n",
       "  <tbody>\n",
       "    <tr>\n",
       "      <th>0</th>\n",
       "      <td>JERIEL NDEDA, OBURA</td>\n",
       "      <td>13259.0</td>\n",
       "      <td>0.0</td>\n",
       "      <td>81.0</td>\n",
       "      <td>39.0</td>\n",
       "      <td>50.0</td>\n",
       "      <td>30.0</td>\n",
       "      <td>59.0</td>\n",
       "      <td>99</td>\n",
       "      <td>80</td>\n",
       "      <td>438.0</td>\n",
       "    </tr>\n",
       "    <tr>\n",
       "      <th>1</th>\n",
       "      <td>MUKUHA TIMOTHY, KAMAU</td>\n",
       "      <td>13243.0</td>\n",
       "      <td>0.0</td>\n",
       "      <td>85.0</td>\n",
       "      <td>74.0</td>\n",
       "      <td>68.0</td>\n",
       "      <td>49.0</td>\n",
       "      <td>78.0</td>\n",
       "      <td>38</td>\n",
       "      <td>86</td>\n",
       "      <td>478.0</td>\n",
       "    </tr>\n",
       "    <tr>\n",
       "      <th>2</th>\n",
       "      <td>JOB, NGARA</td>\n",
       "      <td>13307.0</td>\n",
       "      <td>0.0</td>\n",
       "      <td>54.0</td>\n",
       "      <td>49.0</td>\n",
       "      <td>53.0</td>\n",
       "      <td>59.0</td>\n",
       "      <td>72.0</td>\n",
       "      <td>86</td>\n",
       "      <td>62</td>\n",
       "      <td>435.0</td>\n",
       "    </tr>\n",
       "    <tr>\n",
       "      <th>3</th>\n",
       "      <td>CHEGE DAVID, KAMAU</td>\n",
       "      <td>13258.0</td>\n",
       "      <td>0.0</td>\n",
       "      <td>71.0</td>\n",
       "      <td>97.0</td>\n",
       "      <td>92.0</td>\n",
       "      <td>41.0</td>\n",
       "      <td>81.0</td>\n",
       "      <td>77</td>\n",
       "      <td>80</td>\n",
       "      <td>539.0</td>\n",
       "    </tr>\n",
       "    <tr>\n",
       "      <th>4</th>\n",
       "      <td>RAMADHAN MUSA, TEPO</td>\n",
       "      <td>13363.0</td>\n",
       "      <td>0.0</td>\n",
       "      <td>40.0</td>\n",
       "      <td>84.0</td>\n",
       "      <td>74.0</td>\n",
       "      <td>82.0</td>\n",
       "      <td>89.0</td>\n",
       "      <td>64</td>\n",
       "      <td>46</td>\n",
       "      <td>479.0</td>\n",
       "    </tr>\n",
       "  </tbody>\n",
       "</table>\n",
       "</div>"
      ],
      "text/plain": [
       "                   names  admission number  balance  english  kiswahili  \\\n",
       "0    JERIEL NDEDA, OBURA           13259.0      0.0     81.0       39.0   \n",
       "1  MUKUHA TIMOTHY, KAMAU           13243.0      0.0     85.0       74.0   \n",
       "2             JOB, NGARA           13307.0      0.0     54.0       49.0   \n",
       "3     CHEGE DAVID, KAMAU           13258.0      0.0     71.0       97.0   \n",
       "4    RAMADHAN MUSA, TEPO           13363.0      0.0     40.0       84.0   \n",
       "\n",
       "   mathematics  science  sst/cre  Creative Arts  music  Total  \n",
       "0         50.0     30.0     59.0             99     80  438.0  \n",
       "1         68.0     49.0     78.0             38     86  478.0  \n",
       "2         53.0     59.0     72.0             86     62  435.0  \n",
       "3         92.0     41.0     81.0             77     80  539.0  \n",
       "4         74.0     82.0     89.0             64     46  479.0  "
      ]
     },
     "execution_count": 110,
     "metadata": {},
     "output_type": "execute_result"
    }
   ],
   "source": [
    "students_data.head()"
   ]
  },
  {
   "cell_type": "markdown",
   "metadata": {},
   "source": [
    "## Desert"
   ]
  },
  {
   "cell_type": "markdown",
   "metadata": {},
   "source": [
    "![desert](dessert.jpg)"
   ]
  },
  {
   "cell_type": "markdown",
   "metadata": {},
   "source": [
    "[Photo by Suzy Hazelwood](https://www.pexels.com/photo/cheesecake-1126359/)"
   ]
  },
  {
   "cell_type": "markdown",
   "metadata": {},
   "source": [
    "### Write a function that can be used by the school finance department. The user should enter the admission number of the student and the function returns the fee balance."
   ]
  },
  {
   "cell_type": "code",
   "execution_count": 111,
   "metadata": {},
   "outputs": [],
   "source": [
    "## code goes here"
   ]
  },
  {
   "cell_type": "markdown",
   "metadata": {},
   "source": [
    "### Supposing you are the teacher, and you want to know the grades of your student, first allocate grades to the students depending on their total and then wtite code that the teacher can enter the admission number and returns the grade of the specific student."
   ]
  },
  {
   "cell_type": "code",
   "execution_count": 112,
   "metadata": {},
   "outputs": [],
   "source": [
    "## code goes here"
   ]
  },
  {
   "cell_type": "markdown",
   "metadata": {},
   "source": [
    "### Parents wouldn't mind a colorful visual of their students performance, wouldn't they? Create a visual showing the performance of an individual student in the respective subjects."
   ]
  },
  {
   "cell_type": "code",
   "execution_count": 113,
   "metadata": {},
   "outputs": [],
   "source": [
    "## code goes here"
   ]
  }
 ],
 "metadata": {
  "kernelspec": {
   "display_name": "Python 3.10.7 64-bit",
   "language": "python",
   "name": "python3"
  },
  "language_info": {
   "codemirror_mode": {
    "name": "ipython",
    "version": 3
   },
   "file_extension": ".py",
   "mimetype": "text/x-python",
   "name": "python",
   "nbconvert_exporter": "python",
   "pygments_lexer": "ipython3",
   "version": "3.10.8"
  },
  "orig_nbformat": 4,
  "vscode": {
   "interpreter": {
    "hash": "e7370f93d1d0cde622a1f8e1c04877d8463912d04d973331ad4851f04de6915a"
   }
  }
 },
 "nbformat": 4,
 "nbformat_minor": 2
}
