{
 "cells": [
  {
   "cell_type": "markdown",
   "metadata": {},
   "source": [
    "## Objectives\n",
    "\n",
    "* Understand data cleaning and different data issues.\n",
    "* Define, identify and handle duplicates and unwanted observations.\n",
    "* Quanitify and Handle Missing values.\n",
    "* Ensure wanted observations are well structured.\n",
    "* Define, identify and filter out outliers.\n",
    "* Validate Data Accuracy.\n",
    "* Demonstrate use of ```Lambda``` functions. "
   ]
  },
  {
   "cell_type": "markdown",
   "metadata": {},
   "source": [
    "## What is Data Cleaning?\n",
    "\n",
    "* Data cleaning refers to the process of identifying and correcting or removing incorrect, incomplete, incorrectly formatted, corrupted, duplicate or irrelevant data within the provided data.\n",
    "\n",
    "Although tiresome, this is among the most important process of any data analytics or data science project as unwanted data points my result in undesirable insights.\n",
    "\n",
    ":bulb: **Remember:** _Garbage in garbage out_\n",
    "\n",
    "There is no one outright and perfect way to stipulate the exact steps involved in the data cleaning phase because the processes will differ depending on the data at hand.\n",
    "\n"
   ]
  },
  {
   "cell_type": "markdown",
   "metadata": {},
   "source": []
  }
 ],
 "metadata": {
  "kernelspec": {
   "display_name": "Python 3.10.7 64-bit",
   "language": "python",
   "name": "python3"
  },
  "language_info": {
   "codemirror_mode": {
    "name": "ipython",
    "version": 3
   },
   "file_extension": ".py",
   "mimetype": "text/x-python",
   "name": "python",
   "nbconvert_exporter": "python",
   "pygments_lexer": "ipython3",
   "version": "3.10.7"
  },
  "orig_nbformat": 4,
  "vscode": {
   "interpreter": {
    "hash": "e7370f93d1d0cde622a1f8e1c04877d8463912d04d973331ad4851f04de6915a"
   }
  }
 },
 "nbformat": 4,
 "nbformat_minor": 2
}
